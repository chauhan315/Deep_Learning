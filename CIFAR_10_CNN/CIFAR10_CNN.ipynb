{
  "nbformat": 4,
  "nbformat_minor": 0,
  "metadata": {
    "colab": {
      "provenance": []
    },
    "kernelspec": {
      "name": "python3",
      "display_name": "Python 3"
    },
    "language_info": {
      "name": "python"
    }
  },
  "cells": [
    {
      "cell_type": "markdown",
      "source": [
        "## Load the libraries"
      ],
      "metadata": {
        "id": "VMkqMXXYQDPX"
      }
    },
    {
      "cell_type": "code",
      "execution_count": 3,
      "metadata": {
        "id": "reA-vIZYrZhT"
      },
      "outputs": [],
      "source": [
        "import numpy as np\n",
        "import pandas as pd\n",
        "import matplotlib.pyplot as plt\n",
        "import seaborn as sns\n",
        "\n",
        "import warnings\n",
        "warnings.filterwarnings('ignore')"
      ]
    },
    {
      "cell_type": "code",
      "source": [
        "import torch\n",
        "import  torchvision\n",
        "import torchvision.transforms as transforms\n",
        "import torch.nn as nn\n",
        "import torch.nn.functional as F\n",
        "import torch.optim as optim\n",
        "import torchvision.datasets as datasets"
      ],
      "metadata": {
        "id": "ost_L6TnMT2K"
      },
      "execution_count": 5,
      "outputs": []
    },
    {
      "cell_type": "markdown",
      "source": [
        "#### create the tranformation object"
      ],
      "metadata": {
        "id": "YUFjx8l6QHl1"
      }
    },
    {
      "cell_type": "code",
      "source": [
        "transform = transforms.Compose([transforms.ToTensor(), transforms.Normalize((0.5, 0.5, 0.5), (0.5, 0.5, 0.5))])"
      ],
      "metadata": {
        "id": "s8s9vv6EPH0w"
      },
      "execution_count": 14,
      "outputs": []
    },
    {
      "cell_type": "markdown",
      "source": [
        "#### download and transform train and test dataset"
      ],
      "metadata": {
        "id": "-uNF1429QN6g"
      }
    },
    {
      "cell_type": "code",
      "source": [
        "train_data = datasets.CIFAR10('CIFAR10', train=True, transform=transform, download=True)\n",
        "test_data = datasets.CIFAR10('CIFAR10', train=False, transform=transform, download=True)"
      ],
      "metadata": {
        "colab": {
          "base_uri": "https://localhost:8080/"
        },
        "id": "MSar22WHQ30f",
        "outputId": "cad6a12c-d2fd-4c16-886a-bec80f0c6480"
      },
      "execution_count": 15,
      "outputs": [
        {
          "output_type": "stream",
          "name": "stdout",
          "text": [
            "Files already downloaded and verified\n",
            "Files already downloaded and verified\n"
          ]
        }
      ]
    },
    {
      "cell_type": "code",
      "source": [
        "train_data"
      ],
      "metadata": {
        "colab": {
          "base_uri": "https://localhost:8080/"
        },
        "id": "2hUBAN5zSkeX",
        "outputId": "b9faf147-775c-46f2-bd79-73d6eb9d0a5d"
      },
      "execution_count": 16,
      "outputs": [
        {
          "output_type": "execute_result",
          "data": {
            "text/plain": [
              "Dataset CIFAR10\n",
              "    Number of datapoints: 50000\n",
              "    Root location: CIFAR10\n",
              "    Split: Train\n",
              "    StandardTransform\n",
              "Transform: Compose(\n",
              "               ToTensor()\n",
              "               Normalize(mean=(0.5, 0.5, 0.5), std=(0.5, 0.5, 0.5))\n",
              "           )"
            ]
          },
          "metadata": {},
          "execution_count": 16
        }
      ]
    },
    {
      "cell_type": "code",
      "source": [
        "test_data"
      ],
      "metadata": {
        "colab": {
          "base_uri": "https://localhost:8080/"
        },
        "id": "PJPtAK7uSlAY",
        "outputId": "ce4b8bd6-f3cb-419e-ae3b-8349ae99f5a8"
      },
      "execution_count": 17,
      "outputs": [
        {
          "output_type": "execute_result",
          "data": {
            "text/plain": [
              "Dataset CIFAR10\n",
              "    Number of datapoints: 10000\n",
              "    Root location: CIFAR10\n",
              "    Split: Test\n",
              "    StandardTransform\n",
              "Transform: Compose(\n",
              "               ToTensor()\n",
              "               Normalize(mean=(0.5, 0.5, 0.5), std=(0.5, 0.5, 0.5))\n",
              "           )"
            ]
          },
          "metadata": {},
          "execution_count": 17
        }
      ]
    },
    {
      "cell_type": "markdown",
      "source": [
        "#### create the data loader for both train and test"
      ],
      "metadata": {
        "id": "TLTXGc7oQw7S"
      }
    },
    {
      "cell_type": "code",
      "source": [
        "train_loader = torch.utils.data.DataLoader(train_data, batch_size=4, shuffle=True, num_workers=2)\n",
        "test_loader = torch.utils.data.DataLoader(test_data, batch_size=4, shuffle=False, num_workers=2)"
      ],
      "metadata": {
        "id": "89G9wiHsQ231"
      },
      "execution_count": 18,
      "outputs": []
    },
    {
      "cell_type": "markdown",
      "source": [
        "#### define the classes"
      ],
      "metadata": {
        "id": "rvtLH-CGTNwo"
      }
    },
    {
      "cell_type": "code",
      "source": [
        "classes = ['airplane', 'automobile', 'bird', 'cat', 'deer', 'dog', 'frog', 'horse', 'ship', 'truck']"
      ],
      "metadata": {
        "id": "uHS0y2YOS7NP"
      },
      "execution_count": 19,
      "outputs": []
    },
    {
      "cell_type": "markdown",
      "source": [
        "### View the image"
      ],
      "metadata": {
        "id": "OOZyhhLQTiaF"
      }
    },
    {
      "cell_type": "markdown",
      "source": [
        "#### create a function to denormalize the images and show them (with transpose done)"
      ],
      "metadata": {
        "id": "74YwE7NDWSwf"
      }
    },
    {
      "cell_type": "code",
      "source": [
        "def imshow(img):\n",
        "    # denormalize = img*std + mean\n",
        "    img = img/2 + 0.5\n",
        "    img_np = img.numpy()\n",
        "    plt.imshow(np.transpose(img_np, (1, 2, 0)))"
      ],
      "metadata": {
        "id": "OAFPEwg6TgS6"
      },
      "execution_count": 20,
      "outputs": []
    },
    {
      "cell_type": "markdown",
      "source": [
        "#### get the image from data loaders using iter/next and then use the fucntion"
      ],
      "metadata": {
        "id": "PxDjzIDHYJRI"
      }
    },
    {
      "cell_type": "code",
      "source": [
        "train_iter = iter(train_loader)"
      ],
      "metadata": {
        "id": "dFF-jMWZWK6n"
      },
      "execution_count": 21,
      "outputs": []
    },
    {
      "cell_type": "code",
      "source": [
        "images, labels = next(train_iter)"
      ],
      "metadata": {
        "id": "5uu4CgGlYXyw"
      },
      "execution_count": 22,
      "outputs": []
    },
    {
      "cell_type": "code",
      "source": [
        "images.shape"
      ],
      "metadata": {
        "colab": {
          "base_uri": "https://localhost:8080/"
        },
        "id": "3ty8-nkaYa3p",
        "outputId": "69901297-810e-42e7-a56e-065d44c29608"
      },
      "execution_count": 23,
      "outputs": [
        {
          "output_type": "execute_result",
          "data": {
            "text/plain": [
              "torch.Size([4, 3, 32, 32])"
            ]
          },
          "metadata": {},
          "execution_count": 23
        }
      ]
    },
    {
      "cell_type": "code",
      "source": [
        "labels.shape"
      ],
      "metadata": {
        "colab": {
          "base_uri": "https://localhost:8080/"
        },
        "id": "_nAm-xr1Ycvi",
        "outputId": "53f32c08-c603-4a55-bbe9-60446b1316d2"
      },
      "execution_count": 24,
      "outputs": [
        {
          "output_type": "execute_result",
          "data": {
            "text/plain": [
              "torch.Size([4])"
            ]
          },
          "metadata": {},
          "execution_count": 24
        }
      ]
    },
    {
      "cell_type": "code",
      "source": [
        "images[0].shape"
      ],
      "metadata": {
        "colab": {
          "base_uri": "https://localhost:8080/"
        },
        "id": "kncgyk4rYfJU",
        "outputId": "0fc8ef77-ec21-410b-deb8-d73f912d4816"
      },
      "execution_count": 25,
      "outputs": [
        {
          "output_type": "execute_result",
          "data": {
            "text/plain": [
              "torch.Size([3, 32, 32])"
            ]
          },
          "metadata": {},
          "execution_count": 25
        }
      ]
    },
    {
      "cell_type": "code",
      "source": [
        "imshow(images[0])\n",
        "classes[labels[0]]"
      ],
      "metadata": {
        "colab": {
          "base_uri": "https://localhost:8080/",
          "height": 449
        },
        "id": "XXejrURAYhsm",
        "outputId": "e8aa5f96-7a01-4c07-be94-301754ec03c2"
      },
      "execution_count": 30,
      "outputs": [
        {
          "output_type": "execute_result",
          "data": {
            "text/plain": [
              "'bird'"
            ],
            "application/vnd.google.colaboratory.intrinsic+json": {
              "type": "string"
            }
          },
          "metadata": {},
          "execution_count": 30
        },
        {
          "output_type": "display_data",
          "data": {
            "text/plain": [
              "<Figure size 640x480 with 1 Axes>"
            ],
            "image/png": "[encoded data removed]"
          },
          "metadata": {}
        }
      ]
    },
    {
      "cell_type": "code",
      "source": [
        "imshow(torchvision.utils.make_grid(images))"
      ],
      "metadata": {
        "colab": {
          "base_uri": "https://localhost:8080/",
          "height": 193
        },
        "id": "ZfMb-D2MYp0O",
        "outputId": "d5067f47-7f2f-4996-f5b0-96843e2f6504"
      },
      "execution_count": 33,
      "outputs": [
        {
          "output_type": "display_data",
          "data": {
            "text/plain": [
              "<Figure size 640x480 with 1 Axes>"
            ],
            "image/png": "[encoded data removed]"
          },
          "metadata": {}
        }
      ]
    },
    {
      "cell_type": "code",
      "source": [],
      "metadata": {
        "id": "6ec6HZsEZDEG"
      },
      "execution_count": null,
      "outputs": []
    },
    {
      "cell_type": "markdown",
      "source": [
        "## Define the Neural Network"
      ],
      "metadata": {
        "id": "EBTWsFv5bADy"
      }
    },
    {
      "cell_type": "code",
      "source": [
        "class ImageClassifierNeuralNetwork(nn.Module):\n",
        "    def __init__(self):\n",
        "        super(ImageClassifierNeuralNetwork, self).__init__()\n",
        "\n",
        "        self.conv_1 = nn.Conv2d(3, 6, 5)\n",
        "        self.pool = nn.MaxPool2d(2, 2)\n",
        "        self.conv_2 = nn.Conv2d(6, 16, 5)\n",
        "        self.fc_1 = nn.Linear(16*5*5, 120)\n",
        "        self.fc_2 = nn.Linear(120 ,80)\n",
        "        self.fc_3 = nn.Linear(80, 10)\n"
      ],
      "metadata": {
        "id": "IkcHckGOZPnA"
      },
      "execution_count": null,
      "outputs": []
    }
  ]
}