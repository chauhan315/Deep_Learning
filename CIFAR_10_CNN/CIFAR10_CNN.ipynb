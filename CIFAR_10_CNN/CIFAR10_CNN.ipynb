{
  "nbformat": 4,
  "nbformat_minor": 0,
  "metadata": {
    "colab": {
      "provenance": []
    },
    "kernelspec": {
      "name": "python3",
      "display_name": "Python 3"
    },
    "language_info": {
      "name": "python"
    }
  },
  "cells": [
    {
      "cell_type": "markdown",
      "source": [
        "## Load the libraries"
      ],
      "metadata": {
        "id": "VMkqMXXYQDPX"
      }
    },
    {
      "cell_type": "code",
      "execution_count": 68,
      "metadata": {
        "id": "reA-vIZYrZhT"
      },
      "outputs": [],
      "source": [
        "import numpy as np\n",
        "import pandas as pd\n",
        "import matplotlib.pyplot as plt\n",
        "import seaborn as sns\n",
        "\n",
        "import warnings\n",
        "warnings.filterwarnings('ignore')"
      ]
    },
    {
      "cell_type": "code",
      "source": [
        "import torch\n",
        "import  torchvision\n",
        "import torchvision.transforms as transforms\n",
        "import torch.nn as nn\n",
        "import torch.nn.functional as F\n",
        "import torch.optim as optim\n",
        "import torchvision.datasets as datasets"
      ],
      "metadata": {
        "id": "ost_L6TnMT2K"
      },
      "execution_count": 69,
      "outputs": []
    },
    {
      "cell_type": "markdown",
      "source": [
        "#### create the tranformation object"
      ],
      "metadata": {
        "id": "YUFjx8l6QHl1"
      }
    },
    {
      "cell_type": "code",
      "source": [
        "transform = transforms.Compose([transforms.ToTensor(), transforms.Normalize((0.5, 0.5, 0.5), (0.5, 0.5, 0.5))])"
      ],
      "metadata": {
        "id": "s8s9vv6EPH0w"
      },
      "execution_count": 70,
      "outputs": []
    },
    {
      "cell_type": "markdown",
      "source": [
        "#### download and transform train and test dataset"
      ],
      "metadata": {
        "id": "-uNF1429QN6g"
      }
    },
    {
      "cell_type": "code",
      "source": [
        "train_data = datasets.CIFAR10('CIFAR10', train=True, transform=transform, download=True)\n",
        "test_data = datasets.CIFAR10('CIFAR10', train=False, transform=transform, download=True)"
      ],
      "metadata": {
        "colab": {
          "base_uri": "https://localhost:8080/"
        },
        "id": "MSar22WHQ30f",
        "outputId": "1030c849-8545-40f7-90e2-b6103761bbfb"
      },
      "execution_count": 71,
      "outputs": [
        {
          "output_type": "stream",
          "name": "stdout",
          "text": [
            "Files already downloaded and verified\n",
            "Files already downloaded and verified\n"
          ]
        }
      ]
    },
    {
      "cell_type": "code",
      "source": [
        "train_data"
      ],
      "metadata": {
        "colab": {
          "base_uri": "https://localhost:8080/"
        },
        "id": "2hUBAN5zSkeX",
        "outputId": "147af6a0-06b5-41f6-9093-01e6b6927bb6"
      },
      "execution_count": 72,
      "outputs": [
        {
          "output_type": "execute_result",
          "data": {
            "text/plain": [
              "Dataset CIFAR10\n",
              "    Number of datapoints: 50000\n",
              "    Root location: CIFAR10\n",
              "    Split: Train\n",
              "    StandardTransform\n",
              "Transform: Compose(\n",
              "               ToTensor()\n",
              "               Normalize(mean=(0.5, 0.5, 0.5), std=(0.5, 0.5, 0.5))\n",
              "           )"
            ]
          },
          "metadata": {},
          "execution_count": 72
        }
      ]
    },
    {
      "cell_type": "code",
      "source": [
        "test_data"
      ],
      "metadata": {
        "colab": {
          "base_uri": "https://localhost:8080/"
        },
        "id": "PJPtAK7uSlAY",
        "outputId": "acdf1dab-6a05-42aa-9c39-ed06acdc435c"
      },
      "execution_count": 73,
      "outputs": [
        {
          "output_type": "execute_result",
          "data": {
            "text/plain": [
              "Dataset CIFAR10\n",
              "    Number of datapoints: 10000\n",
              "    Root location: CIFAR10\n",
              "    Split: Test\n",
              "    StandardTransform\n",
              "Transform: Compose(\n",
              "               ToTensor()\n",
              "               Normalize(mean=(0.5, 0.5, 0.5), std=(0.5, 0.5, 0.5))\n",
              "           )"
            ]
          },
          "metadata": {},
          "execution_count": 73
        }
      ]
    },
    {
      "cell_type": "markdown",
      "source": [
        "#### create the data loader for both train and test"
      ],
      "metadata": {
        "id": "TLTXGc7oQw7S"
      }
    },
    {
      "cell_type": "code",
      "source": [
        "train_loader = torch.utils.data.DataLoader(train_data, batch_size=4, shuffle=True, num_workers=2)\n",
        "test_loader = torch.utils.data.DataLoader(test_data, batch_size=4, shuffle=False, num_workers=2)"
      ],
      "metadata": {
        "id": "89G9wiHsQ231"
      },
      "execution_count": 74,
      "outputs": []
    },
    {
      "cell_type": "markdown",
      "source": [
        "#### define the classes"
      ],
      "metadata": {
        "id": "rvtLH-CGTNwo"
      }
    },
    {
      "cell_type": "code",
      "source": [
        "classes = ['airplane', 'automobile', 'bird', 'cat', 'deer', 'dog', 'frog', 'horse', 'ship', 'truck']"
      ],
      "metadata": {
        "id": "uHS0y2YOS7NP"
      },
      "execution_count": 75,
      "outputs": []
    },
    {
      "cell_type": "markdown",
      "source": [
        "### View the image"
      ],
      "metadata": {
        "id": "OOZyhhLQTiaF"
      }
    },
    {
      "cell_type": "markdown",
      "source": [
        "#### create a function to denormalize the images and show them (with transpose done)"
      ],
      "metadata": {
        "id": "74YwE7NDWSwf"
      }
    },
    {
      "cell_type": "code",
      "source": [
        "def imshow(img):\n",
        "    # denormalize = img*std + mean\n",
        "    img = img/2 + 0.5\n",
        "    img_np = img.numpy()\n",
        "    plt.imshow(np.transpose(img_np, (1, 2, 0)))"
      ],
      "metadata": {
        "id": "OAFPEwg6TgS6"
      },
      "execution_count": 76,
      "outputs": []
    },
    {
      "cell_type": "markdown",
      "source": [
        "#### get the image from data loaders using iter/next and then use the fucntion"
      ],
      "metadata": {
        "id": "PxDjzIDHYJRI"
      }
    },
    {
      "cell_type": "code",
      "source": [
        "train_iter = iter(train_loader)"
      ],
      "metadata": {
        "id": "dFF-jMWZWK6n"
      },
      "execution_count": 77,
      "outputs": []
    },
    {
      "cell_type": "code",
      "source": [
        "images, labels = next(train_iter)"
      ],
      "metadata": {
        "id": "5uu4CgGlYXyw"
      },
      "execution_count": 78,
      "outputs": []
    },
    {
      "cell_type": "code",
      "source": [
        "images.shape"
      ],
      "metadata": {
        "colab": {
          "base_uri": "https://localhost:8080/"
        },
        "id": "3ty8-nkaYa3p",
        "outputId": "8bf4ebe5-a284-478d-f68f-b91ee753fb67"
      },
      "execution_count": 79,
      "outputs": [
        {
          "output_type": "execute_result",
          "data": {
            "text/plain": [
              "torch.Size([4, 3, 32, 32])"
            ]
          },
          "metadata": {},
          "execution_count": 79
        }
      ]
    },
    {
      "cell_type": "code",
      "source": [
        "labels.shape"
      ],
      "metadata": {
        "colab": {
          "base_uri": "https://localhost:8080/"
        },
        "id": "_nAm-xr1Ycvi",
        "outputId": "8e137783-332d-4b89-a14c-fb0ccc8d7e53"
      },
      "execution_count": 80,
      "outputs": [
        {
          "output_type": "execute_result",
          "data": {
            "text/plain": [
              "torch.Size([4])"
            ]
          },
          "metadata": {},
          "execution_count": 80
        }
      ]
    },
    {
      "cell_type": "code",
      "source": [
        "images[0].shape"
      ],
      "metadata": {
        "colab": {
          "base_uri": "https://localhost:8080/"
        },
        "id": "kncgyk4rYfJU",
        "outputId": "5ea03bf7-0c5a-459e-b2aa-47fc33d9f065"
      },
      "execution_count": 81,
      "outputs": [
        {
          "output_type": "execute_result",
          "data": {
            "text/plain": [
              "torch.Size([3, 32, 32])"
            ]
          },
          "metadata": {},
          "execution_count": 81
        }
      ]
    },
    {
      "cell_type": "code",
      "source": [
        "imshow(images[0])\n",
        "classes[labels[0]]"
      ],
      "metadata": {
        "colab": {
          "base_uri": "https://localhost:8080/",
          "height": 449
        },
        "id": "XXejrURAYhsm",
        "outputId": "2e1985e7-b0bb-408b-e6ac-03cdd38512fb"
      },
      "execution_count": 82,
      "outputs": [
        {
          "output_type": "execute_result",
          "data": {
            "text/plain": [
              "'frog'"
            ],
            "application/vnd.google.colaboratory.intrinsic+json": {
              "type": "string"
            }
          },
          "metadata": {},
          "execution_count": 82
        },
        {
          "output_type": "display_data",
          "data": {
            "text/plain": [
              "<Figure size 640x480 with 1 Axes>"
            ],
            "image/png": "[encoded data removed]"
          },
          "metadata": {}
        }
      ]
    },
    {
      "cell_type": "code",
      "source": [
        "imshow(torchvision.utils.make_grid(images))"
      ],
      "metadata": {
        "colab": {
          "base_uri": "https://localhost:8080/",
          "height": 193
        },
        "id": "ZfMb-D2MYp0O",
        "outputId": "7d843c8a-999c-4b54-8785-2f8ae90548ac"
      },
      "execution_count": 83,
      "outputs": [
        {
          "output_type": "display_data",
          "data": {
            "text/plain": [
              "<Figure size 640x480 with 1 Axes>"
            ],
            "image/png": "[encoded data removed]"
          },
          "metadata": {}
        }
      ]
    },
    {
      "cell_type": "code",
      "source": [],
      "metadata": {
        "id": "6ec6HZsEZDEG"
      },
      "execution_count": 83,
      "outputs": []
    },
    {
      "cell_type": "markdown",
      "source": [
        "## Define the Neural Network"
      ],
      "metadata": {
        "id": "EBTWsFv5bADy"
      }
    },
    {
      "cell_type": "code",
      "source": [
        "class ImageClassifierNeuralNetwork(nn.Module):\n",
        "    def __init__(self):\n",
        "        super(ImageClassifierNeuralNetwork, self).__init__()\n",
        "\n",
        "        self.conv_1 = nn.Conv2d(3, 6, 5)\n",
        "        self.pool = nn.MaxPool2d(2, 2)\n",
        "        self.conv_2 = nn.Conv2d(6, 16, 5)\n",
        "        self.fc_1 = nn.Linear(16*5*5, 120)\n",
        "        self.fc_2 = nn.Linear(120, 80)\n",
        "        self.fc_3 = nn.Linear(80, 10)\n",
        "\n",
        "    def forward(self, x):\n",
        "        x = self.pool(F.relu(self.conv_1(x)))\n",
        "        x = self.pool(F.relu(self.conv_2(x)))\n",
        "        x = x.view(-1, 16*5*5)\n",
        "        x = F.relu(self.fc_1(x))\n",
        "        x = F.relu(self.fc_2(x))\n",
        "        x = self.fc_3(x)\n",
        "        return x\n"
      ],
      "metadata": {
        "id": "IkcHckGOZPnA"
      },
      "execution_count": 84,
      "outputs": []
    },
    {
      "cell_type": "code",
      "source": [
        "ICNet = ImageClassifierNeuralNetwork()"
      ],
      "metadata": {
        "id": "1m_N2PoT_WuO"
      },
      "execution_count": 85,
      "outputs": []
    },
    {
      "cell_type": "markdown",
      "source": [
        "### Define the loss function and optimizer"
      ],
      "metadata": {
        "id": "2Nm6n29F-9y1"
      }
    },
    {
      "cell_type": "code",
      "source": [
        "criterion = nn.CrossEntropyLoss()\n",
        "optimizer = optim.SGD(ICNet.parameters(), lr=0.001, momentum=0.9)"
      ],
      "metadata": {
        "id": "PeSfTh5j-6--"
      },
      "execution_count": 86,
      "outputs": []
    },
    {
      "cell_type": "markdown",
      "source": [
        "### Train the neural network"
      ],
      "metadata": {
        "id": "Pq_cuZ8HE-Jw"
      }
    },
    {
      "cell_type": "code",
      "source": [
        "epochs = 4\n",
        "for epoch in range(epochs):\n",
        "    running_loss = 0.0\n",
        "\n",
        "    for i, train_data in enumerate(train_loader, 0):\n",
        "        images, labels = train_data\n",
        "\n",
        "        optimizer.zero_grad()\n",
        "\n",
        "        outputs = ICNet(images)\n",
        "\n",
        "        loss = criterion(outputs, labels)\n",
        "        loss.backward()\n",
        "\n",
        "        optimizer.step()\n",
        "\n",
        "        running_loss += loss.item()\n",
        "\n",
        "        if i % 500 == 499:\n",
        "            print(epoch+1, i+1, running_loss/500)\n",
        "            running_loss = 0.0\n",
        "\n"
      ],
      "metadata": {
        "id": "xNc7XhxrBlmd",
        "colab": {
          "base_uri": "https://localhost:8080/"
        },
        "outputId": "a0e4a267-cd18-4ae5-ec9b-ed1ce298a5f2"
      },
      "execution_count": null,
      "outputs": [
        {
          "output_type": "stream",
          "name": "stdout",
          "text": [
            "1 500 2.3022081046104432\n",
            "1 1000 2.298174713134766\n",
            "1 1500 2.237761662721634\n"
          ]
        }
      ]
    },
    {
      "cell_type": "markdown",
      "source": [
        "## Test the neural network"
      ],
      "metadata": {
        "id": "o_OeMGgfLTMM"
      }
    },
    {
      "cell_type": "code",
      "source": [
        "images, labels = next(train_iter)"
      ],
      "metadata": {
        "id": "JonR5YLhHNcw"
      },
      "execution_count": null,
      "outputs": []
    },
    {
      "cell_type": "code",
      "source": [
        "labels.shape"
      ],
      "metadata": {
        "id": "Ez9NhPV_Lxo2"
      },
      "execution_count": null,
      "outputs": []
    },
    {
      "cell_type": "code",
      "source": [
        "imshow(torchvision.utils.make_grid(images))"
      ],
      "metadata": {
        "id": "pegHVd04L1qi"
      },
      "execution_count": null,
      "outputs": []
    },
    {
      "cell_type": "code",
      "source": [
        "print(' '.join(classes[labels[i]] for i in range(4)))"
      ],
      "metadata": {
        "id": "Lb3LiBiTL_au"
      },
      "execution_count": null,
      "outputs": []
    },
    {
      "cell_type": "code",
      "source": [
        "outputs = ICNet(images)"
      ],
      "metadata": {
        "id": "9AsSLJ2dMMrk"
      },
      "execution_count": null,
      "outputs": []
    },
    {
      "cell_type": "code",
      "source": [
        "outputs.shape"
      ],
      "metadata": {
        "id": "RviQF_6FMekl"
      },
      "execution_count": null,
      "outputs": []
    },
    {
      "cell_type": "code",
      "source": [
        "_, predictions = torch.max(outputs, 1)"
      ],
      "metadata": {
        "id": "OrwXJCWxMgAC"
      },
      "execution_count": null,
      "outputs": []
    },
    {
      "cell_type": "code",
      "source": [
        "predictions"
      ],
      "metadata": {
        "id": "C-1gTybEM30T"
      },
      "execution_count": null,
      "outputs": []
    },
    {
      "cell_type": "code",
      "source": [
        "print(' '.join(classes[predictions[i]] for i in range(4)))"
      ],
      "metadata": {
        "id": "rjVAKLuCM495"
      },
      "execution_count": null,
      "outputs": []
    },
    {
      "cell_type": "code",
      "source": [
        "correct = 0\n",
        "total = 0\n",
        "\n",
        "with torch.no_grad():\n",
        "    for test_datas in test_loader:\n",
        "        images, labels = test_datas\n",
        "\n",
        "        test_predictions = ICNet(images)\n",
        "        _, predictions = torch.max(test_predictions, 1)\n",
        "\n",
        "        total += labels.size(0)\n",
        "\n",
        "        correct += (predictions == labels).sum().item()\n",
        "\n",
        "\n",
        "accuracy = (correct/total) * 100\n",
        "\n",
        "\n"
      ],
      "metadata": {
        "id": "-Pmd7-JBNAxJ"
      },
      "execution_count": null,
      "outputs": []
    },
    {
      "cell_type": "code",
      "source": [
        "accuracy"
      ],
      "metadata": {
        "id": "ivLzSd-pTz26"
      },
      "execution_count": null,
      "outputs": []
    },
    {
      "cell_type": "code",
      "source": [],
      "metadata": {
        "id": "PIGn1d43T0g2"
      },
      "execution_count": null,
      "outputs": []
    }
  ]
}