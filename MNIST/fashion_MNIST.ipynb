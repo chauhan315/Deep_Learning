{
  "nbformat": 4,
  "nbformat_minor": 0,
  "metadata": {
    "colab": {
      "provenance": []
    },
    "kernelspec": {
      "name": "python3",
      "display_name": "Python 3"
    },
    "language_info": {
      "name": "python"
    }
  },
  "cells": [
    {
      "cell_type": "code",
      "execution_count": null,
      "metadata": {
        "id": "2xpuDnFA8aQt"
      },
      "outputs": [],
      "source": [
        "import tensorflow as tf\n",
        "import numpy as np\n",
        "import pandas as pd\n",
        "import matplotlib.pyplot as plt\n",
        "\n",
        "import warnings\n",
        "warnings.filterwarnings('ignore')"
      ]
    },
    {
      "cell_type": "code",
      "source": [
        "from tensorflow import keras\n",
        "import keras as k"
      ],
      "metadata": {
        "id": "NUsM2Ezu8p4k"
      },
      "execution_count": null,
      "outputs": []
    },
    {
      "cell_type": "code",
      "source": [
        "fashion_mnist = keras.datasets.fashion_mnist"
      ],
      "metadata": {
        "id": "DYOVI9ma9SJ4"
      },
      "execution_count": null,
      "outputs": []
    },
    {
      "cell_type": "code",
      "source": [
        "(X_train_full, y_train_full), (X_test, y_test) = fashion_mnist.load_data()"
      ],
      "metadata": {
        "colab": {
          "base_uri": "https://localhost:8080/"
        },
        "id": "fLJ09z8N9gM_",
        "outputId": "d69a93d9-708f-422c-db18-d55b9c4dbca4"
      },
      "execution_count": null,
      "outputs": [
        {
          "output_type": "stream",
          "name": "stdout",
          "text": [
            "Downloading data from https://storage.googleapis.com/tensorflow/tf-keras-datasets/train-labels-idx1-ubyte.gz\n",
            "\u001b[1m29515/29515\u001b[0m \u001b[32m━━━━━━━━━━━━━━━━━━━━\u001b[0m\u001b[37m\u001b[0m \u001b[1m0s\u001b[0m 0us/step\n",
            "Downloading data from https://storage.googleapis.com/tensorflow/tf-keras-datasets/train-images-idx3-ubyte.gz\n",
            "\u001b[1m26421880/26421880\u001b[0m \u001b[32m━━━━━━━━━━━━━━━━━━━━\u001b[0m\u001b[37m\u001b[0m \u001b[1m0s\u001b[0m 0us/step\n",
            "Downloading data from https://storage.googleapis.com/tensorflow/tf-keras-datasets/t10k-labels-idx1-ubyte.gz\n",
            "\u001b[1m5148/5148\u001b[0m \u001b[32m━━━━━━━━━━━━━━━━━━━━\u001b[0m\u001b[37m\u001b[0m \u001b[1m0s\u001b[0m 1us/step\n",
            "Downloading data from https://storage.googleapis.com/tensorflow/tf-keras-datasets/t10k-images-idx3-ubyte.gz\n",
            "\u001b[1m4422102/4422102\u001b[0m \u001b[32m━━━━━━━━━━━━━━━━━━━━\u001b[0m\u001b[37m\u001b[0m \u001b[1m0s\u001b[0m 0us/step\n"
          ]
        }
      ]
    },
    {
      "cell_type": "code",
      "source": [
        "print(X_train_full.shape)\n",
        "print(y_train_full.shape)\n",
        "print(X_test.shape)\n",
        "print(y_test.shape)"
      ],
      "metadata": {
        "colab": {
          "base_uri": "https://localhost:8080/"
        },
        "id": "F6PQyX0s9txg",
        "outputId": "3f2e6f7a-c6df-4ad5-bab6-48514ede4a08"
      },
      "execution_count": null,
      "outputs": [
        {
          "output_type": "stream",
          "name": "stdout",
          "text": [
            "(60000, 28, 28)\n",
            "(60000,)\n",
            "(10000, 28, 28)\n",
            "(10000,)\n"
          ]
        }
      ]
    },
    {
      "cell_type": "markdown",
      "source": [
        "# Scaling the dataset in range 0-1"
      ],
      "metadata": {
        "id": "fEvTTz0RDH-W"
      }
    },
    {
      "cell_type": "code",
      "source": [
        "X_valid, X_train = X_train_full[:5000] / 255, X_train_full[5000:] / 255\n",
        "y_valid, y_train = y_train_full[:5000] , y_train_full[5000:]"
      ],
      "metadata": {
        "id": "hCTl684Y97dO"
      },
      "execution_count": 10,
      "outputs": []
    },
    {
      "cell_type": "code",
      "source": [
        "X_test = X_test / 255"
      ],
      "metadata": {
        "id": "NBAPrjHB-D7Z"
      },
      "execution_count": 11,
      "outputs": []
    },
    {
      "cell_type": "code",
      "source": [
        "y_train[:10]"
      ],
      "metadata": {
        "colab": {
          "base_uri": "https://localhost:8080/"
        },
        "id": "VVLnaGoFEyRk",
        "outputId": "f9fe461d-3e95-4d7b-e195-f34e0308e0d5"
      },
      "execution_count": 13,
      "outputs": [
        {
          "output_type": "execute_result",
          "data": {
            "text/plain": [
              "array([4, 0, 7, 9, 9, 9, 4, 4, 3, 4], dtype=uint8)"
            ]
          },
          "metadata": {},
          "execution_count": 13
        }
      ]
    },
    {
      "cell_type": "code",
      "source": [
        "class_names = [\"T-shirt/top\",\"Trouser\",\"Pullover\",\"Dress\",\"Coat\",\"Sandal\",\"Shirt\",\"Sneaker\",\"Bag\",\"Ankle boot\"]"
      ],
      "metadata": {
        "id": "DC07s2BqIHiW"
      },
      "execution_count": 14,
      "outputs": []
    },
    {
      "cell_type": "code",
      "source": [
        "class_names[y_train[0]]"
      ],
      "metadata": {
        "colab": {
          "base_uri": "https://localhost:8080/",
          "height": 36
        },
        "id": "FEohvEq4JS8M",
        "outputId": "e9f757af-1a50-4b82-daa5-7640779c7926"
      },
      "execution_count": 15,
      "outputs": [
        {
          "output_type": "execute_result",
          "data": {
            "text/plain": [
              "'Coat'"
            ],
            "application/vnd.google.colaboratory.intrinsic+json": {
              "type": "string"
            }
          },
          "metadata": {},
          "execution_count": 15
        }
      ]
    },
    {
      "cell_type": "code",
      "source": [],
      "metadata": {
        "id": "Zr-RedxgJWO6"
      },
      "execution_count": null,
      "outputs": []
    },
    {
      "cell_type": "markdown",
      "source": [
        "Display the first 16 images"
      ],
      "metadata": {
        "id": "WRUyN9nlJeK5"
      }
    },
    {
      "cell_type": "code",
      "source": [
        "fig, ax = plt.subplots(4,4, figsize=(4,4))\n",
        "\n",
        "for i, axi in enumerate(ax.flat):\n",
        "  axi.imshow(X_train[i])\n",
        "  axi.set(xticks=[], yticks=[])\n"
      ],
      "metadata": {
        "colab": {
          "base_uri": "https://localhost:8080/",
          "height": 345
        },
        "id": "nEsuklJeJgoL",
        "outputId": "0941f454-2e6b-4f1c-8b27-767902513659"
      },
      "execution_count": 18,
      "outputs": [
        {
          "output_type": "display_data",
          "data": {
            "text/plain": [
              "<Figure size 400x400 with 16 Axes>"
            ],
            "image/png": "[encoded data removed]"
          },
          "metadata": {}
        }
      ]
    },
    {
      "cell_type": "code",
      "source": [],
      "metadata": {
        "id": "t8qSeaemJ69O"
      },
      "execution_count": null,
      "outputs": []
    },
    {
      "cell_type": "markdown",
      "source": [
        "Create our keras sequential model"
      ],
      "metadata": {
        "id": "bAr1dVAQKrXs"
      }
    },
    {
      "cell_type": "code",
      "source": [
        "model = keras.models.Sequential()\n",
        "\n",
        "model.add(keras.layers.Flatten(input_shape=[28,28]))\n",
        "model.add(keras.layers.Dense(300, activation='relu'))\n",
        "model.add(keras.layers.Dense(100, activation='relu'))\n",
        "model.add(keras.layers.Dense(10, activation='softmax'))"
      ],
      "metadata": {
        "id": "4Pd-eytBKt77"
      },
      "execution_count": 19,
      "outputs": []
    },
    {
      "cell_type": "code",
      "source": [
        "model.summary()"
      ],
      "metadata": {
        "colab": {
          "base_uri": "https://localhost:8080/",
          "height": 257
        },
        "id": "S0hPZgUyL1pN",
        "outputId": "868ae0c6-ac9f-4368-d1b8-b69aa4d6650e"
      },
      "execution_count": 21,
      "outputs": [
        {
          "output_type": "display_data",
          "data": {
            "text/plain": [
              "\u001b[1mModel: \"sequential\"\u001b[0m\n"
            ],
            "text/html": [
              "<pre style=\"white-space:pre;overflow-x:auto;line-height:normal;font-family:Menlo,'DejaVu Sans Mono',consolas,'Courier New',monospace\"><span style=\"font-weight: bold\">Model: \"sequential\"</span>\n",
              "</pre>\n"
            ]
          },
          "metadata": {}
        },
        {
          "output_type": "display_data",
          "data": {
            "text/plain": [
              "┏━━━━━━━━━━━━━━━━━━━━━━━━━━━━━━━━━━━━━━┳━━━━━━━━━━━━━━━━━━━━━━━━━━━━━┳━━━━━━━━━━━━━━━━━┓\n",
              "┃\u001b[1m \u001b[0m\u001b[1mLayer (type)                        \u001b[0m\u001b[1m \u001b[0m┃\u001b[1m \u001b[0m\u001b[1mOutput Shape               \u001b[0m\u001b[1m \u001b[0m┃\u001b[1m \u001b[0m\u001b[1m        Param #\u001b[0m\u001b[1m \u001b[0m┃\n",
              "┡━━━━━━━━━━━━━━━━━━━━━━━━━━━━━━━━━━━━━━╇━━━━━━━━━━━━━━━━━━━━━━━━━━━━━╇━━━━━━━━━━━━━━━━━┩\n",
              "│ flatten (\u001b[38;5;33mFlatten\u001b[0m)                    │ (\u001b[38;5;45mNone\u001b[0m, \u001b[38;5;34m784\u001b[0m)                 │               \u001b[38;5;34m0\u001b[0m │\n",
              "├──────────────────────────────────────┼─────────────────────────────┼─────────────────┤\n",
              "│ dense (\u001b[38;5;33mDense\u001b[0m)                        │ (\u001b[38;5;45mNone\u001b[0m, \u001b[38;5;34m300\u001b[0m)                 │         \u001b[38;5;34m235,500\u001b[0m │\n",
              "├──────────────────────────────────────┼─────────────────────────────┼─────────────────┤\n",
              "│ dense_1 (\u001b[38;5;33mDense\u001b[0m)                      │ (\u001b[38;5;45mNone\u001b[0m, \u001b[38;5;34m100\u001b[0m)                 │          \u001b[38;5;34m30,100\u001b[0m │\n",
              "├──────────────────────────────────────┼─────────────────────────────┼─────────────────┤\n",
              "│ dense_2 (\u001b[38;5;33mDense\u001b[0m)                      │ (\u001b[38;5;45mNone\u001b[0m, \u001b[38;5;34m10\u001b[0m)                  │           \u001b[38;5;34m1,010\u001b[0m │\n",
              "└──────────────────────────────────────┴─────────────────────────────┴─────────────────┘\n"
            ],
            "text/html": [
              "<pre style=\"white-space:pre;overflow-x:auto;line-height:normal;font-family:Menlo,'DejaVu Sans Mono',consolas,'Courier New',monospace\">┏━━━━━━━━━━━━━━━━━━━━━━━━━━━━━━━━━━━━━━┳━━━━━━━━━━━━━━━━━━━━━━━━━━━━━┳━━━━━━━━━━━━━━━━━┓\n",
              "┃<span style=\"font-weight: bold\"> Layer (type)                         </span>┃<span style=\"font-weight: bold\"> Output Shape                </span>┃<span style=\"font-weight: bold\">         Param # </span>┃\n",
              "┡━━━━━━━━━━━━━━━━━━━━━━━━━━━━━━━━━━━━━━╇━━━━━━━━━━━━━━━━━━━━━━━━━━━━━╇━━━━━━━━━━━━━━━━━┩\n",
              "│ flatten (<span style=\"color: #0087ff; text-decoration-color: #0087ff\">Flatten</span>)                    │ (<span style=\"color: #00d7ff; text-decoration-color: #00d7ff\">None</span>, <span style=\"color: #00af00; text-decoration-color: #00af00\">784</span>)                 │               <span style=\"color: #00af00; text-decoration-color: #00af00\">0</span> │\n",
              "├──────────────────────────────────────┼─────────────────────────────┼─────────────────┤\n",
              "│ dense (<span style=\"color: #0087ff; text-decoration-color: #0087ff\">Dense</span>)                        │ (<span style=\"color: #00d7ff; text-decoration-color: #00d7ff\">None</span>, <span style=\"color: #00af00; text-decoration-color: #00af00\">300</span>)                 │         <span style=\"color: #00af00; text-decoration-color: #00af00\">235,500</span> │\n",
              "├──────────────────────────────────────┼─────────────────────────────┼─────────────────┤\n",
              "│ dense_1 (<span style=\"color: #0087ff; text-decoration-color: #0087ff\">Dense</span>)                      │ (<span style=\"color: #00d7ff; text-decoration-color: #00d7ff\">None</span>, <span style=\"color: #00af00; text-decoration-color: #00af00\">100</span>)                 │          <span style=\"color: #00af00; text-decoration-color: #00af00\">30,100</span> │\n",
              "├──────────────────────────────────────┼─────────────────────────────┼─────────────────┤\n",
              "│ dense_2 (<span style=\"color: #0087ff; text-decoration-color: #0087ff\">Dense</span>)                      │ (<span style=\"color: #00d7ff; text-decoration-color: #00d7ff\">None</span>, <span style=\"color: #00af00; text-decoration-color: #00af00\">10</span>)                  │           <span style=\"color: #00af00; text-decoration-color: #00af00\">1,010</span> │\n",
              "└──────────────────────────────────────┴─────────────────────────────┴─────────────────┘\n",
              "</pre>\n"
            ]
          },
          "metadata": {}
        },
        {
          "output_type": "display_data",
          "data": {
            "text/plain": [
              "\u001b[1m Total params: \u001b[0m\u001b[38;5;34m266,610\u001b[0m (1.02 MB)\n"
            ],
            "text/html": [
              "<pre style=\"white-space:pre;overflow-x:auto;line-height:normal;font-family:Menlo,'DejaVu Sans Mono',consolas,'Courier New',monospace\"><span style=\"font-weight: bold\"> Total params: </span><span style=\"color: #00af00; text-decoration-color: #00af00\">266,610</span> (1.02 MB)\n",
              "</pre>\n"
            ]
          },
          "metadata": {}
        },
        {
          "output_type": "display_data",
          "data": {
            "text/plain": [
              "\u001b[1m Trainable params: \u001b[0m\u001b[38;5;34m266,610\u001b[0m (1.02 MB)\n"
            ],
            "text/html": [
              "<pre style=\"white-space:pre;overflow-x:auto;line-height:normal;font-family:Menlo,'DejaVu Sans Mono',consolas,'Courier New',monospace\"><span style=\"font-weight: bold\"> Trainable params: </span><span style=\"color: #00af00; text-decoration-color: #00af00\">266,610</span> (1.02 MB)\n",
              "</pre>\n"
            ]
          },
          "metadata": {}
        },
        {
          "output_type": "display_data",
          "data": {
            "text/plain": [
              "\u001b[1m Non-trainable params: \u001b[0m\u001b[38;5;34m0\u001b[0m (0.00 B)\n"
            ],
            "text/html": [
              "<pre style=\"white-space:pre;overflow-x:auto;line-height:normal;font-family:Menlo,'DejaVu Sans Mono',consolas,'Courier New',monospace\"><span style=\"font-weight: bold\"> Non-trainable params: </span><span style=\"color: #00af00; text-decoration-color: #00af00\">0</span> (0.00 B)\n",
              "</pre>\n"
            ]
          },
          "metadata": {}
        }
      ]
    },
    {
      "cell_type": "code",
      "source": [
        "model.layers"
      ],
      "metadata": {
        "colab": {
          "base_uri": "https://localhost:8080/"
        },
        "id": "p6wQ-JPJMkaa",
        "outputId": "3ffaf066-2a52-4492-bcdb-5d2b185d52bf"
      },
      "execution_count": 22,
      "outputs": [
        {
          "output_type": "execute_result",
          "data": {
            "text/plain": [
              "[<Flatten name=flatten, built=True>,\n",
              " <Dense name=dense, built=True>,\n",
              " <Dense name=dense_1, built=True>,\n",
              " <Dense name=dense_2, built=True>]"
            ]
          },
          "metadata": {},
          "execution_count": 22
        }
      ]
    },
    {
      "cell_type": "code",
      "source": [
        "hidden1 = model.layers[1]\n",
        "hidden1"
      ],
      "metadata": {
        "colab": {
          "base_uri": "https://localhost:8080/"
        },
        "id": "96LUfh97Nza_",
        "outputId": "23c8f6e7-f268-4682-9b13-ca74b0d1b070"
      },
      "execution_count": 23,
      "outputs": [
        {
          "output_type": "execute_result",
          "data": {
            "text/plain": [
              "<Dense name=dense, built=True>"
            ]
          },
          "metadata": {},
          "execution_count": 23
        }
      ]
    },
    {
      "cell_type": "code",
      "source": [],
      "metadata": {
        "id": "Mo28Rc4zN7De"
      },
      "execution_count": null,
      "outputs": []
    },
    {
      "cell_type": "markdown",
      "source": [
        "Complie the model"
      ],
      "metadata": {
        "id": "TjHNp2eCOe4O"
      }
    },
    {
      "cell_type": "code",
      "source": [
        "model.compile(loss='sparse_categorical_crossentropy', optimizer='sgd', metrics=['accuracy'])"
      ],
      "metadata": {
        "id": "7yFZ1clVOgeU"
      },
      "execution_count": 24,
      "outputs": []
    },
    {
      "cell_type": "code",
      "source": [
        "history = model.fit(X_train, y_train, epochs=20, batch_size=128, validation_data=(X_valid, y_valid))"
      ],
      "metadata": {
        "colab": {
          "base_uri": "https://localhost:8080/"
        },
        "id": "e2poQ_3NOwsm",
        "outputId": "0956db51-6c14-4f37-c2e7-64c20b2c7f6d"
      },
      "execution_count": 26,
      "outputs": [
        {
          "output_type": "stream",
          "name": "stdout",
          "text": [
            "Epoch 1/20\n",
            "\u001b[1m430/430\u001b[0m \u001b[32m━━━━━━━━━━━━━━━━━━━━\u001b[0m\u001b[37m\u001b[0m \u001b[1m4s\u001b[0m 9ms/step - accuracy: 0.8528 - loss: 0.4241 - val_accuracy: 0.8552 - val_loss: 0.4142\n",
            "Epoch 2/20\n",
            "\u001b[1m430/430\u001b[0m \u001b[32m━━━━━━━━━━━━━━━━━━━━\u001b[0m\u001b[37m\u001b[0m \u001b[1m4s\u001b[0m 6ms/step - accuracy: 0.8553 - loss: 0.4151 - val_accuracy: 0.8656 - val_loss: 0.4058\n",
            "Epoch 3/20\n",
            "\u001b[1m430/430\u001b[0m \u001b[32m━━━━━━━━━━━━━━━━━━━━\u001b[0m\u001b[37m\u001b[0m \u001b[1m5s\u001b[0m 6ms/step - accuracy: 0.8562 - loss: 0.4088 - val_accuracy: 0.8648 - val_loss: 0.4051\n",
            "Epoch 4/20\n",
            "\u001b[1m430/430\u001b[0m \u001b[32m━━━━━━━━━━━━━━━━━━━━\u001b[0m\u001b[37m\u001b[0m \u001b[1m4s\u001b[0m 10ms/step - accuracy: 0.8627 - loss: 0.3956 - val_accuracy: 0.8686 - val_loss: 0.3949\n",
            "Epoch 5/20\n",
            "\u001b[1m430/430\u001b[0m \u001b[32m━━━━━━━━━━━━━━━━━━━━\u001b[0m\u001b[37m\u001b[0m \u001b[1m3s\u001b[0m 6ms/step - accuracy: 0.8602 - loss: 0.3968 - val_accuracy: 0.8648 - val_loss: 0.3939\n",
            "Epoch 6/20\n",
            "\u001b[1m430/430\u001b[0m \u001b[32m━━━━━━━━━━━━━━━━━━━━\u001b[0m\u001b[37m\u001b[0m \u001b[1m3s\u001b[0m 6ms/step - accuracy: 0.8627 - loss: 0.3955 - val_accuracy: 0.8696 - val_loss: 0.3862\n",
            "Epoch 7/20\n",
            "\u001b[1m430/430\u001b[0m \u001b[32m━━━━━━━━━━━━━━━━━━━━\u001b[0m\u001b[37m\u001b[0m \u001b[1m3s\u001b[0m 6ms/step - accuracy: 0.8640 - loss: 0.3862 - val_accuracy: 0.8708 - val_loss: 0.3864\n",
            "Epoch 8/20\n",
            "\u001b[1m430/430\u001b[0m \u001b[32m━━━━━━━━━━━━━━━━━━━━\u001b[0m\u001b[37m\u001b[0m \u001b[1m3s\u001b[0m 8ms/step - accuracy: 0.8658 - loss: 0.3865 - val_accuracy: 0.8680 - val_loss: 0.3835\n",
            "Epoch 9/20\n",
            "\u001b[1m430/430\u001b[0m \u001b[32m━━━━━━━━━━━━━━━━━━━━\u001b[0m\u001b[37m\u001b[0m \u001b[1m5s\u001b[0m 6ms/step - accuracy: 0.8661 - loss: 0.3780 - val_accuracy: 0.8680 - val_loss: 0.3789\n",
            "Epoch 10/20\n",
            "\u001b[1m430/430\u001b[0m \u001b[32m━━━━━━━━━━━━━━━━━━━━\u001b[0m\u001b[37m\u001b[0m \u001b[1m3s\u001b[0m 6ms/step - accuracy: 0.8710 - loss: 0.3675 - val_accuracy: 0.8542 - val_loss: 0.4100\n",
            "Epoch 11/20\n",
            "\u001b[1m430/430\u001b[0m \u001b[32m━━━━━━━━━━━━━━━━━━━━\u001b[0m\u001b[37m\u001b[0m \u001b[1m6s\u001b[0m 8ms/step - accuracy: 0.8716 - loss: 0.3687 - val_accuracy: 0.8702 - val_loss: 0.3845\n",
            "Epoch 12/20\n",
            "\u001b[1m430/430\u001b[0m \u001b[32m━━━━━━━━━━━━━━━━━━━━\u001b[0m\u001b[37m\u001b[0m \u001b[1m3s\u001b[0m 8ms/step - accuracy: 0.8711 - loss: 0.3649 - val_accuracy: 0.8618 - val_loss: 0.3947\n",
            "Epoch 13/20\n",
            "\u001b[1m430/430\u001b[0m \u001b[32m━━━━━━━━━━━━━━━━━━━━\u001b[0m\u001b[37m\u001b[0m \u001b[1m3s\u001b[0m 6ms/step - accuracy: 0.8734 - loss: 0.3612 - val_accuracy: 0.8704 - val_loss: 0.3730\n",
            "Epoch 14/20\n",
            "\u001b[1m430/430\u001b[0m \u001b[32m━━━━━━━━━━━━━━━━━━━━\u001b[0m\u001b[37m\u001b[0m \u001b[1m5s\u001b[0m 6ms/step - accuracy: 0.8717 - loss: 0.3626 - val_accuracy: 0.8724 - val_loss: 0.3655\n",
            "Epoch 15/20\n",
            "\u001b[1m430/430\u001b[0m \u001b[32m━━━━━━━━━━━━━━━━━━━━\u001b[0m\u001b[37m\u001b[0m \u001b[1m5s\u001b[0m 6ms/step - accuracy: 0.8763 - loss: 0.3502 - val_accuracy: 0.8752 - val_loss: 0.3678\n",
            "Epoch 16/20\n",
            "\u001b[1m430/430\u001b[0m \u001b[32m━━━━━━━━━━━━━━━━━━━━\u001b[0m\u001b[37m\u001b[0m \u001b[1m3s\u001b[0m 6ms/step - accuracy: 0.8738 - loss: 0.3561 - val_accuracy: 0.8784 - val_loss: 0.3621\n",
            "Epoch 17/20\n",
            "\u001b[1m430/430\u001b[0m \u001b[32m━━━━━━━━━━━━━━━━━━━━\u001b[0m\u001b[37m\u001b[0m \u001b[1m5s\u001b[0m 7ms/step - accuracy: 0.8760 - loss: 0.3501 - val_accuracy: 0.8708 - val_loss: 0.3608\n",
            "Epoch 18/20\n",
            "\u001b[1m430/430\u001b[0m \u001b[32m━━━━━━━━━━━━━━━━━━━━\u001b[0m\u001b[37m\u001b[0m \u001b[1m5s\u001b[0m 6ms/step - accuracy: 0.8803 - loss: 0.3393 - val_accuracy: 0.8756 - val_loss: 0.3555\n",
            "Epoch 19/20\n",
            "\u001b[1m430/430\u001b[0m \u001b[32m━━━━━━━━━━━━━━━━━━━━\u001b[0m\u001b[37m\u001b[0m \u001b[1m3s\u001b[0m 6ms/step - accuracy: 0.8800 - loss: 0.3383 - val_accuracy: 0.8726 - val_loss: 0.3587\n",
            "Epoch 20/20\n",
            "\u001b[1m430/430\u001b[0m \u001b[32m━━━━━━━━━━━━━━━━━━━━\u001b[0m\u001b[37m\u001b[0m \u001b[1m6s\u001b[0m 8ms/step - accuracy: 0.8780 - loss: 0.3414 - val_accuracy: 0.8758 - val_loss: 0.3529\n"
          ]
        }
      ]
    },
    {
      "cell_type": "code",
      "source": [],
      "metadata": {
        "id": "XhoOziqiQbup"
      },
      "execution_count": null,
      "outputs": []
    },
    {
      "cell_type": "markdown",
      "source": [
        "Evaluating the model"
      ],
      "metadata": {
        "id": "N5xBJLi2UX7Y"
      }
    },
    {
      "cell_type": "code",
      "source": [
        "history_df = pd.DataFrame(history.history)\n",
        "history_df.head()"
      ],
      "metadata": {
        "colab": {
          "base_uri": "https://localhost:8080/",
          "height": 206
        },
        "id": "nAibKRbqUaQr",
        "outputId": "91a776db-08b6-4f7f-dc72-eba45c1692be"
      },
      "execution_count": 27,
      "outputs": [
        {
          "output_type": "execute_result",
          "data": {
            "text/plain": [
              "   accuracy      loss  val_accuracy  val_loss\n",
              "0  0.854236  0.418779        0.8552  0.414237\n",
              "1  0.855909  0.413431        0.8656  0.405843\n",
              "2  0.857927  0.406029        0.8648  0.405125\n",
              "3  0.860455  0.400641        0.8686  0.394904\n",
              "4  0.861327  0.395117        0.8648  0.393879"
            ],
            "text/html": [
              "\n",
              "  <div id=\"df-922c355e-eaa3-443e-af67-a3891892d27c\" class=\"colab-df-container\">\n",
              "    <div>\n",
              "<style scoped>\n",
              "    .dataframe tbody tr th:only-of-type {\n",
              "        vertical-align: middle;\n",
              "    }\n",
              "\n",
              "    .dataframe tbody tr th {\n",
              "        vertical-align: top;\n",
              "    }\n",
              "\n",
              "    .dataframe thead th {\n",
              "        text-align: right;\n",
              "    }\n",
              "</style>\n",
              "<table border=\"1\" class=\"dataframe\">\n",
              "  <thead>\n",
              "    <tr style=\"text-align: right;\">\n",
              "      <th></th>\n",
              "      <th>accuracy</th>\n",
              "      <th>loss</th>\n",
              "      <th>val_accuracy</th>\n",
              "      <th>val_loss</th>\n",
              "    </tr>\n",
              "  </thead>\n",
              "  <tbody>\n",
              "    <tr>\n",
              "      <th>0</th>\n",
              "      <td>0.854236</td>\n",
              "      <td>0.418779</td>\n",
              "      <td>0.8552</td>\n",
              "      <td>0.414237</td>\n",
              "    </tr>\n",
              "    <tr>\n",
              "      <th>1</th>\n",
              "      <td>0.855909</td>\n",
              "      <td>0.413431</td>\n",
              "      <td>0.8656</td>\n",
              "      <td>0.405843</td>\n",
              "    </tr>\n",
              "    <tr>\n",
              "      <th>2</th>\n",
              "      <td>0.857927</td>\n",
              "      <td>0.406029</td>\n",
              "      <td>0.8648</td>\n",
              "      <td>0.405125</td>\n",
              "    </tr>\n",
              "    <tr>\n",
              "      <th>3</th>\n",
              "      <td>0.860455</td>\n",
              "      <td>0.400641</td>\n",
              "      <td>0.8686</td>\n",
              "      <td>0.394904</td>\n",
              "    </tr>\n",
              "    <tr>\n",
              "      <th>4</th>\n",
              "      <td>0.861327</td>\n",
              "      <td>0.395117</td>\n",
              "      <td>0.8648</td>\n",
              "      <td>0.393879</td>\n",
              "    </tr>\n",
              "  </tbody>\n",
              "</table>\n",
              "</div>\n",
              "    <div class=\"colab-df-buttons\">\n",
              "\n",
              "  <div class=\"colab-df-container\">\n",
              "    <button class=\"colab-df-convert\" onclick=\"convertToInteractive('df-922c355e-eaa3-443e-af67-a3891892d27c')\"\n",
              "            title=\"Convert this dataframe to an interactive table.\"\n",
              "            style=\"display:none;\">\n",
              "\n",
              "  <svg xmlns=\"http://www.w3.org/2000/svg\" height=\"24px\" viewBox=\"0 -960 960 960\">\n",
              "    <path d=\"M120-120v-720h720v720H120Zm60-500h600v-160H180v160Zm220 220h160v-160H400v160Zm0 220h160v-160H400v160ZM180-400h160v-160H180v160Zm440 0h160v-160H620v160ZM180-180h160v-160H180v160Zm440 0h160v-160H620v160Z\"/>\n",
              "  </svg>\n",
              "    </button>\n",
              "\n",
              "  <style>\n",
              "    .colab-df-container {\n",
              "      display:flex;\n",
              "      gap: 12px;\n",
              "    }\n",
              "\n",
              "    .colab-df-convert {\n",
              "      background-color: #E8F0FE;\n",
              "      border: none;\n",
              "      border-radius: 50%;\n",
              "      cursor: pointer;\n",
              "      display: none;\n",
              "      fill: #1967D2;\n",
              "      height: 32px;\n",
              "      padding: 0 0 0 0;\n",
              "      width: 32px;\n",
              "    }\n",
              "\n",
              "    .colab-df-convert:hover {\n",
              "      background-color: #E2EBFA;\n",
              "      box-shadow: 0px 1px 2px rgba(60, 64, 67, 0.3), 0px 1px 3px 1px rgba(60, 64, 67, 0.15);\n",
              "      fill: #174EA6;\n",
              "    }\n",
              "\n",
              "    .colab-df-buttons div {\n",
              "      margin-bottom: 4px;\n",
              "    }\n",
              "\n",
              "    [theme=dark] .colab-df-convert {\n",
              "      background-color: #3B4455;\n",
              "      fill: #D2E3FC;\n",
              "    }\n",
              "\n",
              "    [theme=dark] .colab-df-convert:hover {\n",
              "      background-color: #434B5C;\n",
              "      box-shadow: 0px 1px 3px 1px rgba(0, 0, 0, 0.15);\n",
              "      filter: drop-shadow(0px 1px 2px rgba(0, 0, 0, 0.3));\n",
              "      fill: #FFFFFF;\n",
              "    }\n",
              "  </style>\n",
              "\n",
              "    <script>\n",
              "      const buttonEl =\n",
              "        document.querySelector('#df-922c355e-eaa3-443e-af67-a3891892d27c button.colab-df-convert');\n",
              "      buttonEl.style.display =\n",
              "        google.colab.kernel.accessAllowed ? 'block' : 'none';\n",
              "\n",
              "      async function convertToInteractive(key) {\n",
              "        const element = document.querySelector('#df-922c355e-eaa3-443e-af67-a3891892d27c');\n",
              "        const dataTable =\n",
              "          await google.colab.kernel.invokeFunction('convertToInteractive',\n",
              "                                                    [key], {});\n",
              "        if (!dataTable) return;\n",
              "\n",
              "        const docLinkHtml = 'Like what you see? Visit the ' +\n",
              "          '<a target=\"_blank\" href=https://colab.research.google.com/notebooks/data_table.ipynb>data table notebook</a>'\n",
              "          + ' to learn more about interactive tables.';\n",
              "        element.innerHTML = '';\n",
              "        dataTable['output_type'] = 'display_data';\n",
              "        await google.colab.output.renderOutput(dataTable, element);\n",
              "        const docLink = document.createElement('div');\n",
              "        docLink.innerHTML = docLinkHtml;\n",
              "        element.appendChild(docLink);\n",
              "      }\n",
              "    </script>\n",
              "  </div>\n",
              "\n",
              "\n",
              "<div id=\"df-68b98c90-50e1-4cc5-bc9b-57b0791337a9\">\n",
              "  <button class=\"colab-df-quickchart\" onclick=\"quickchart('df-68b98c90-50e1-4cc5-bc9b-57b0791337a9')\"\n",
              "            title=\"Suggest charts\"\n",
              "            style=\"display:none;\">\n",
              "\n",
              "<svg xmlns=\"http://www.w3.org/2000/svg\" height=\"24px\"viewBox=\"0 0 24 24\"\n",
              "     width=\"24px\">\n",
              "    <g>\n",
              "        <path d=\"M19 3H5c-1.1 0-2 .9-2 2v14c0 1.1.9 2 2 2h14c1.1 0 2-.9 2-2V5c0-1.1-.9-2-2-2zM9 17H7v-7h2v7zm4 0h-2V7h2v10zm4 0h-2v-4h2v4z\"/>\n",
              "    </g>\n",
              "</svg>\n",
              "  </button>\n",
              "\n",
              "<style>\n",
              "  .colab-df-quickchart {\n",
              "      --bg-color: #E8F0FE;\n",
              "      --fill-color: #1967D2;\n",
              "      --hover-bg-color: #E2EBFA;\n",
              "      --hover-fill-color: #174EA6;\n",
              "      --disabled-fill-color: #AAA;\n",
              "      --disabled-bg-color: #DDD;\n",
              "  }\n",
              "\n",
              "  [theme=dark] .colab-df-quickchart {\n",
              "      --bg-color: #3B4455;\n",
              "      --fill-color: #D2E3FC;\n",
              "      --hover-bg-color: #434B5C;\n",
              "      --hover-fill-color: #FFFFFF;\n",
              "      --disabled-bg-color: #3B4455;\n",
              "      --disabled-fill-color: #666;\n",
              "  }\n",
              "\n",
              "  .colab-df-quickchart {\n",
              "    background-color: var(--bg-color);\n",
              "    border: none;\n",
              "    border-radius: 50%;\n",
              "    cursor: pointer;\n",
              "    display: none;\n",
              "    fill: var(--fill-color);\n",
              "    height: 32px;\n",
              "    padding: 0;\n",
              "    width: 32px;\n",
              "  }\n",
              "\n",
              "  .colab-df-quickchart:hover {\n",
              "    background-color: var(--hover-bg-color);\n",
              "    box-shadow: 0 1px 2px rgba(60, 64, 67, 0.3), 0 1px 3px 1px rgba(60, 64, 67, 0.15);\n",
              "    fill: var(--button-hover-fill-color);\n",
              "  }\n",
              "\n",
              "  .colab-df-quickchart-complete:disabled,\n",
              "  .colab-df-quickchart-complete:disabled:hover {\n",
              "    background-color: var(--disabled-bg-color);\n",
              "    fill: var(--disabled-fill-color);\n",
              "    box-shadow: none;\n",
              "  }\n",
              "\n",
              "  .colab-df-spinner {\n",
              "    border: 2px solid var(--fill-color);\n",
              "    border-color: transparent;\n",
              "    border-bottom-color: var(--fill-color);\n",
              "    animation:\n",
              "      spin 1s steps(1) infinite;\n",
              "  }\n",
              "\n",
              "  @keyframes spin {\n",
              "    0% {\n",
              "      border-color: transparent;\n",
              "      border-bottom-color: var(--fill-color);\n",
              "      border-left-color: var(--fill-color);\n",
              "    }\n",
              "    20% {\n",
              "      border-color: transparent;\n",
              "      border-left-color: var(--fill-color);\n",
              "      border-top-color: var(--fill-color);\n",
              "    }\n",
              "    30% {\n",
              "      border-color: transparent;\n",
              "      border-left-color: var(--fill-color);\n",
              "      border-top-color: var(--fill-color);\n",
              "      border-right-color: var(--fill-color);\n",
              "    }\n",
              "    40% {\n",
              "      border-color: transparent;\n",
              "      border-right-color: var(--fill-color);\n",
              "      border-top-color: var(--fill-color);\n",
              "    }\n",
              "    60% {\n",
              "      border-color: transparent;\n",
              "      border-right-color: var(--fill-color);\n",
              "    }\n",
              "    80% {\n",
              "      border-color: transparent;\n",
              "      border-right-color: var(--fill-color);\n",
              "      border-bottom-color: var(--fill-color);\n",
              "    }\n",
              "    90% {\n",
              "      border-color: transparent;\n",
              "      border-bottom-color: var(--fill-color);\n",
              "    }\n",
              "  }\n",
              "</style>\n",
              "\n",
              "  <script>\n",
              "    async function quickchart(key) {\n",
              "      const quickchartButtonEl =\n",
              "        document.querySelector('#' + key + ' button');\n",
              "      quickchartButtonEl.disabled = true;  // To prevent multiple clicks.\n",
              "      quickchartButtonEl.classList.add('colab-df-spinner');\n",
              "      try {\n",
              "        const charts = await google.colab.kernel.invokeFunction(\n",
              "            'suggestCharts', [key], {});\n",
              "      } catch (error) {\n",
              "        console.error('Error during call to suggestCharts:', error);\n",
              "      }\n",
              "      quickchartButtonEl.classList.remove('colab-df-spinner');\n",
              "      quickchartButtonEl.classList.add('colab-df-quickchart-complete');\n",
              "    }\n",
              "    (() => {\n",
              "      let quickchartButtonEl =\n",
              "        document.querySelector('#df-68b98c90-50e1-4cc5-bc9b-57b0791337a9 button');\n",
              "      quickchartButtonEl.style.display =\n",
              "        google.colab.kernel.accessAllowed ? 'block' : 'none';\n",
              "    })();\n",
              "  </script>\n",
              "</div>\n",
              "\n",
              "    </div>\n",
              "  </div>\n"
            ],
            "application/vnd.google.colaboratory.intrinsic+json": {
              "type": "dataframe",
              "variable_name": "history_df",
              "summary": "{\n  \"name\": \"history_df\",\n  \"rows\": 20,\n  \"fields\": [\n    {\n      \"column\": \"accuracy\",\n      \"properties\": {\n        \"dtype\": \"number\",\n        \"std\": 0.007972012951019744,\n        \"min\": 0.854236364364624,\n        \"max\": 0.8804000020027161,\n        \"num_unique_values\": 20,\n        \"samples\": [\n          0.854236364364624,\n          0.8773272633552551,\n          0.8757818341255188\n        ],\n        \"semantic_type\": \"\",\n        \"description\": \"\"\n      }\n    },\n    {\n      \"column\": \"loss\",\n      \"properties\": {\n        \"dtype\": \"number\",\n        \"std\": 0.024662287443477003,\n        \"min\": 0.3388202488422394,\n        \"max\": 0.4187794625759125,\n        \"num_unique_values\": 20,\n        \"samples\": [\n          0.4187794625759125,\n          0.34468352794647217,\n          0.35103994607925415\n        ],\n        \"semantic_type\": \"\",\n        \"description\": \"\"\n      }\n    },\n    {\n      \"column\": \"val_accuracy\",\n      \"properties\": {\n        \"dtype\": \"number\",\n        \"std\": 0.006320762019472712,\n        \"min\": 0.854200005531311,\n        \"max\": 0.8784000277519226,\n        \"num_unique_values\": 17,\n        \"samples\": [\n          0.8551999926567078,\n          0.8655999898910522,\n          0.8708000183105469\n        ],\n        \"semantic_type\": \"\",\n        \"description\": \"\"\n      }\n    },\n    {\n      \"column\": \"val_loss\",\n      \"properties\": {\n        \"dtype\": \"number\",\n        \"std\": 0.0191182921260961,\n        \"min\": 0.35290515422821045,\n        \"max\": 0.4142371118068695,\n        \"num_unique_values\": 20,\n        \"samples\": [\n          0.4142371118068695,\n          0.3554690480232239,\n          0.36211395263671875\n        ],\n        \"semantic_type\": \"\",\n        \"description\": \"\"\n      }\n    }\n  ]\n}"
            }
          },
          "metadata": {},
          "execution_count": 27
        }
      ]
    },
    {
      "cell_type": "code",
      "source": [
        "history_df.plot(figsize=(5,5))\n",
        "plt.grid=True\n",
        "plt.gca().set_ylim(0,1)\n",
        "plt.show()"
      ],
      "metadata": {
        "colab": {
          "base_uri": "https://localhost:8080/",
          "height": 451
        },
        "id": "C6Q4-iiQUi8g",
        "outputId": "57f08cf9-51b2-4ff1-8b1e-404a2496fee0"
      },
      "execution_count": 28,
      "outputs": [
        {
          "output_type": "display_data",
          "data": {
            "text/plain": [
              "<Figure size 500x500 with 1 Axes>"
            ],
            "image/png": "[encoded data removed]"
          },
          "metadata": {}
        }
      ]
    },
    {
      "cell_type": "code",
      "source": [
        "model.evaluate(X_test, y_test)"
      ],
      "metadata": {
        "colab": {
          "base_uri": "https://localhost:8080/"
        },
        "id": "cAj90VMwU_G5",
        "outputId": "dd71a35e-7aa6-42b0-e008-78024ce40d6c"
      },
      "execution_count": 29,
      "outputs": [
        {
          "output_type": "stream",
          "name": "stdout",
          "text": [
            "\u001b[1m313/313\u001b[0m \u001b[32m━━━━━━━━━━━━━━━━━━━━\u001b[0m\u001b[37m\u001b[0m \u001b[1m1s\u001b[0m 5ms/step - accuracy: 0.8667 - loss: 0.3818\n"
          ]
        },
        {
          "output_type": "execute_result",
          "data": {
            "text/plain": [
              "[0.3837333917617798, 0.8622999787330627]"
            ]
          },
          "metadata": {},
          "execution_count": 29
        }
      ]
    },
    {
      "cell_type": "code",
      "source": [],
      "metadata": {
        "id": "x0kv6UORXGmL"
      },
      "execution_count": 29,
      "outputs": []
    },
    {
      "cell_type": "markdown",
      "source": [
        "Make predictions"
      ],
      "metadata": {
        "id": "8LoFWLaaZYYW"
      }
    },
    {
      "cell_type": "code",
      "source": [
        "X_new = X_test[:3]\n",
        "y_proba = model.predict(X_new)\n",
        "y_proba.round(2)"
      ],
      "metadata": {
        "colab": {
          "base_uri": "https://localhost:8080/"
        },
        "id": "IlVK706QZaSs",
        "outputId": "755f12ca-2aa3-4f33-961d-d17d0dc90a89"
      },
      "execution_count": 33,
      "outputs": [
        {
          "output_type": "stream",
          "name": "stdout",
          "text": [
            "\u001b[1m1/1\u001b[0m \u001b[32m━━━━━━━━━━━━━━━━━━━━\u001b[0m\u001b[37m\u001b[0m \u001b[1m0s\u001b[0m 22ms/step\n"
          ]
        },
        {
          "output_type": "execute_result",
          "data": {
            "text/plain": [
              "array([[0.  , 0.  , 0.  , 0.  , 0.  , 0.04, 0.  , 0.1 , 0.  , 0.86],\n",
              "       [0.  , 0.  , 0.96, 0.  , 0.01, 0.  , 0.03, 0.  , 0.  , 0.  ],\n",
              "       [0.  , 1.  , 0.  , 0.  , 0.  , 0.  , 0.  , 0.  , 0.  , 0.  ]],\n",
              "      dtype=float32)"
            ]
          },
          "metadata": {},
          "execution_count": 33
        }
      ]
    },
    {
      "cell_type": "code",
      "source": [
        "predict_x = model.predict(X_test)\n",
        "y_pred =np.argmax(predict_x, axis=1)"
      ],
      "metadata": {
        "colab": {
          "base_uri": "https://localhost:8080/"
        },
        "id": "ivdSwwMeaASP",
        "outputId": "d4cf0133-0a71-41b9-e073-3429261ea307"
      },
      "execution_count": 37,
      "outputs": [
        {
          "output_type": "stream",
          "name": "stdout",
          "text": [
            "\u001b[1m313/313\u001b[0m \u001b[32m━━━━━━━━━━━━━━━━━━━━\u001b[0m\u001b[37m\u001b[0m \u001b[1m1s\u001b[0m 2ms/step\n"
          ]
        }
      ]
    },
    {
      "cell_type": "code",
      "source": [
        "y_pred"
      ],
      "metadata": {
        "colab": {
          "base_uri": "https://localhost:8080/"
        },
        "id": "vu9EfOEFa3rn",
        "outputId": "c60ff338-bf9e-443d-c406-fe2b94ed4deb"
      },
      "execution_count": 38,
      "outputs": [
        {
          "output_type": "execute_result",
          "data": {
            "text/plain": [
              "array([9, 2, 1, ..., 8, 1, 5])"
            ]
          },
          "metadata": {},
          "execution_count": 38
        }
      ]
    },
    {
      "cell_type": "code",
      "source": [],
      "metadata": {
        "id": "O3dQTmQrbFoD"
      },
      "execution_count": null,
      "outputs": []
    },
    {
      "cell_type": "markdown",
      "source": [
        "Comapre the actual and predicted value"
      ],
      "metadata": {
        "id": "8Yrf65hvbP_t"
      }
    },
    {
      "cell_type": "code",
      "source": [
        "pred_list = list(zip(np.array(class_names)[y_test], np.array(class_names)[y_pred]))\n",
        "pred_list"
      ],
      "metadata": {
        "colab": {
          "base_uri": "https://localhost:8080/"
        },
        "id": "dexZGo_xbSoM",
        "outputId": "7d0aad5a-ad5c-45c5-f330-c090795a6b9c"
      },
      "execution_count": 41,
      "outputs": [
        {
          "output_type": "execute_result",
          "data": {
            "text/plain": [
              "[('Ankle boot', 'Ankle boot'),\n",
              " ('Pullover', 'Pullover'),\n",
              " ('Trouser', 'Trouser'),\n",
              " ('Trouser', 'Trouser'),\n",
              " ('Shirt', 'Shirt'),\n",
              " ('Trouser', 'Trouser'),\n",
              " ('Coat', 'Coat'),\n",
              " ('Shirt', 'Shirt'),\n",
              " ('Sandal', 'Sandal'),\n",
              " ('Sneaker', 'Sneaker'),\n",
              " ('Coat', 'Coat'),\n",
              " ('Sandal', 'Sandal'),\n",
              " ('Sneaker', 'Sandal'),\n",
              " ('Dress', 'Dress'),\n",
              " ('Coat', 'Coat'),\n",
              " ('Trouser', 'Trouser'),\n",
              " ('Pullover', 'Pullover'),\n",
              " ('Coat', 'Pullover'),\n",
              " ('Bag', 'Bag'),\n",
              " ('T-shirt/top', 'T-shirt/top'),\n",
              " ('Pullover', 'Pullover'),\n",
              " ('Sandal', 'Sandal'),\n",
              " ('Sneaker', 'Sneaker'),\n",
              " ('Ankle boot', 'Sneaker'),\n",
              " ('Trouser', 'Trouser'),\n",
              " ('Coat', 'Pullover'),\n",
              " ('Shirt', 'Shirt'),\n",
              " ('T-shirt/top', 'T-shirt/top'),\n",
              " ('Ankle boot', 'Ankle boot'),\n",
              " ('Dress', 'Dress'),\n",
              " ('Bag', 'Bag'),\n",
              " ('Bag', 'Bag'),\n",
              " ('Dress', 'Dress'),\n",
              " ('Dress', 'Dress'),\n",
              " ('Bag', 'Bag'),\n",
              " ('T-shirt/top', 'T-shirt/top'),\n",
              " ('Sneaker', 'Sneaker'),\n",
              " ('Sandal', 'Sandal'),\n",
              " ('Sneaker', 'Sneaker'),\n",
              " ('Ankle boot', 'Ankle boot'),\n",
              " ('Shirt', 'T-shirt/top'),\n",
              " ('Trouser', 'Trouser'),\n",
              " ('Dress', 'Shirt'),\n",
              " ('Sneaker', 'Sneaker'),\n",
              " ('Shirt', 'Shirt'),\n",
              " ('Sneaker', 'Sneaker'),\n",
              " ('Pullover', 'Pullover'),\n",
              " ('Trouser', 'Trouser'),\n",
              " ('Pullover', 'Pullover'),\n",
              " ('Pullover', 'Shirt'),\n",
              " ('Coat', 'Coat'),\n",
              " ('Coat', 'Pullover'),\n",
              " ('Sandal', 'Sandal'),\n",
              " ('Bag', 'Bag'),\n",
              " ('Pullover', 'Pullover'),\n",
              " ('Pullover', 'Pullover'),\n",
              " ('Bag', 'Bag'),\n",
              " ('Coat', 'Coat'),\n",
              " ('Bag', 'Bag'),\n",
              " ('T-shirt/top', 'T-shirt/top'),\n",
              " ('Sneaker', 'Sneaker'),\n",
              " ('Sneaker', 'Sneaker'),\n",
              " ('Bag', 'Bag'),\n",
              " ('Sandal', 'Sandal'),\n",
              " ('Trouser', 'Trouser'),\n",
              " ('Trouser', 'Trouser'),\n",
              " ('Pullover', 'T-shirt/top'),\n",
              " ('Dress', 'Coat'),\n",
              " ('Ankle boot', 'Sneaker'),\n",
              " ('Bag', 'Bag'),\n",
              " ('Sneaker', 'Sneaker'),\n",
              " ('T-shirt/top', 'T-shirt/top'),\n",
              " ('Pullover', 'Pullover'),\n",
              " ('Shirt', 'Shirt'),\n",
              " ('Pullover', 'Pullover'),\n",
              " ('Dress', 'Dress'),\n",
              " ('Trouser', 'Trouser'),\n",
              " ('Pullover', 'Pullover'),\n",
              " ('Bag', 'Bag'),\n",
              " ('Coat', 'Coat'),\n",
              " ('Trouser', 'Trouser'),\n",
              " ('Bag', 'Bag'),\n",
              " ('Sandal', 'Sandal'),\n",
              " ('Ankle boot', 'Ankle boot'),\n",
              " ('Sandal', 'Sandal'),\n",
              " ('T-shirt/top', 'T-shirt/top'),\n",
              " ('Dress', 'Dress'),\n",
              " ('Pullover', 'Pullover'),\n",
              " ('T-shirt/top', 'T-shirt/top'),\n",
              " ('Shirt', 'Pullover'),\n",
              " ('Sandal', 'Sandal'),\n",
              " ('Dress', 'Dress'),\n",
              " ('Shirt', 'Shirt'),\n",
              " ('Sneaker', 'Sneaker'),\n",
              " ('Trouser', 'Trouser'),\n",
              " ('Bag', 'Bag'),\n",
              " ('T-shirt/top', 'T-shirt/top'),\n",
              " ('Trouser', 'Trouser'),\n",
              " ('Coat', 'Coat'),\n",
              " ('Pullover', 'Pullover'),\n",
              " ('Dress', 'Dress'),\n",
              " ('Shirt', 'Shirt'),\n",
              " ('Sneaker', 'Sneaker'),\n",
              " ('Pullover', 'Shirt'),\n",
              " ('Sneaker', 'Sneaker'),\n",
              " ('Bag', 'Bag'),\n",
              " ('Sandal', 'Sandal'),\n",
              " ('Ankle boot', 'Sneaker'),\n",
              " ('Ankle boot', 'Ankle boot'),\n",
              " ('Coat', 'Coat'),\n",
              " ('Pullover', 'Pullover'),\n",
              " ('Sandal', 'Sandal'),\n",
              " ('Sneaker', 'Sneaker'),\n",
              " ('T-shirt/top', 'T-shirt/top'),\n",
              " ('Sandal', 'Sandal'),\n",
              " ('Pullover', 'Pullover'),\n",
              " ('Bag', 'Bag'),\n",
              " ('Shirt', 'Coat'),\n",
              " ('Sneaker', 'Sneaker'),\n",
              " ('Bag', 'Bag'),\n",
              " ('T-shirt/top', 'T-shirt/top'),\n",
              " ('T-shirt/top', 'T-shirt/top'),\n",
              " ('Ankle boot', 'Ankle boot'),\n",
              " ('Ankle boot', 'Ankle boot'),\n",
              " ('Dress', 'Dress'),\n",
              " ('T-shirt/top', 'T-shirt/top'),\n",
              " ('Bag', 'Bag'),\n",
              " ('Coat', 'Pullover'),\n",
              " ('Trouser', 'Trouser'),\n",
              " ('Sandal', 'Sandal'),\n",
              " ('Coat', 'Coat'),\n",
              " ('Trouser', 'Trouser'),\n",
              " ('Ankle boot', 'Ankle boot'),\n",
              " ('Trouser', 'Trouser'),\n",
              " ('Bag', 'Bag'),\n",
              " ('Shirt', 'Coat'),\n",
              " ('Pullover', 'Shirt'),\n",
              " ('Trouser', 'Trouser'),\n",
              " ('Pullover', 'Pullover'),\n",
              " ('Sandal', 'Sandal'),\n",
              " ('Trouser', 'Trouser'),\n",
              " ('T-shirt/top', 'Shirt'),\n",
              " ('T-shirt/top', 'T-shirt/top'),\n",
              " ('T-shirt/top', 'T-shirt/top'),\n",
              " ('Trouser', 'Trouser'),\n",
              " ('Shirt', 'Shirt'),\n",
              " ('Trouser', 'Trouser'),\n",
              " ('Shirt', 'Dress'),\n",
              " ('Pullover', 'Pullover'),\n",
              " ('Pullover', 'Pullover'),\n",
              " ('Coat', 'Dress'),\n",
              " ('Coat', 'Pullover'),\n",
              " ('Trouser', 'Trouser'),\n",
              " ('Coat', 'Dress'),\n",
              " ('Sandal', 'Sandal'),\n",
              " ('T-shirt/top', 'T-shirt/top'),\n",
              " ('Coat', 'Coat'),\n",
              " ('Sneaker', 'Sneaker'),\n",
              " ('Ankle boot', 'Ankle boot'),\n",
              " ('Dress', 'Dress'),\n",
              " ('Sneaker', 'Sneaker'),\n",
              " ('Pullover', 'Pullover'),\n",
              " ('Dress', 'Dress'),\n",
              " ('Ankle boot', 'Ankle boot'),\n",
              " ('T-shirt/top', 'T-shirt/top'),\n",
              " ('Ankle boot', 'Ankle boot'),\n",
              " ('Coat', 'Coat'),\n",
              " ('Sneaker', 'Sneaker'),\n",
              " ('Coat', 'Coat'),\n",
              " ('Pullover', 'Pullover'),\n",
              " ('T-shirt/top', 'T-shirt/top'),\n",
              " ('Sandal', 'Sandal'),\n",
              " ('Pullover', 'Pullover'),\n",
              " ('Trouser', 'Trouser'),\n",
              " ('Pullover', 'Pullover'),\n",
              " ('Trouser', 'Trouser'),\n",
              " ('Dress', 'Dress'),\n",
              " ('T-shirt/top', 'T-shirt/top'),\n",
              " ('Ankle boot', 'Ankle boot'),\n",
              " ('Trouser', 'Trouser'),\n",
              " ('T-shirt/top', 'T-shirt/top'),\n",
              " ('Ankle boot', 'Ankle boot'),\n",
              " ('Dress', 'Dress'),\n",
              " ('Shirt', 'Bag'),\n",
              " ('Sneaker', 'Sneaker'),\n",
              " ('Ankle boot', 'Ankle boot'),\n",
              " ('Ankle boot', 'Ankle boot'),\n",
              " ('Coat', 'Coat'),\n",
              " ('Coat', 'Coat'),\n",
              " ('Sneaker', 'Sneaker'),\n",
              " ('Trouser', 'Trouser'),\n",
              " ('Pullover', 'Pullover'),\n",
              " ('Trouser', 'Trouser'),\n",
              " ('Shirt', 'Shirt'),\n",
              " ('Dress', 'Dress'),\n",
              " ('Pullover', 'Pullover'),\n",
              " ('Bag', 'Bag'),\n",
              " ('Dress', 'Dress'),\n",
              " ('Shirt', 'Shirt'),\n",
              " ('Trouser', 'Trouser'),\n",
              " ('Trouser', 'Trouser'),\n",
              " ('T-shirt/top', 'T-shirt/top'),\n",
              " ('Pullover', 'Pullover'),\n",
              " ('Ankle boot', 'Ankle boot'),\n",
              " ('Pullover', 'Pullover'),\n",
              " ('Coat', 'Coat'),\n",
              " ('T-shirt/top', 'T-shirt/top'),\n",
              " ('Sneaker', 'Sneaker'),\n",
              " ('Ankle boot', 'Ankle boot'),\n",
              " ('Bag', 'Bag'),\n",
              " ('Coat', 'Coat'),\n",
              " ('Trouser', 'Trouser'),\n",
              " ('Bag', 'Bag'),\n",
              " ('Coat', 'Coat'),\n",
              " ('Trouser', 'Trouser'),\n",
              " ('Dress', 'Dress'),\n",
              " ('Trouser', 'Trouser'),\n",
              " ('Shirt', 'Shirt'),\n",
              " ('Sneaker', 'Sneaker'),\n",
              " ('Pullover', 'Pullover'),\n",
              " ('Bag', 'Bag'),\n",
              " ('Sandal', 'Sandal'),\n",
              " ('Pullover', 'Dress'),\n",
              " ('T-shirt/top', 'T-shirt/top'),\n",
              " ('Sneaker', 'Sneaker'),\n",
              " ('Sneaker', 'Sneaker'),\n",
              " ('Shirt', 'Shirt'),\n",
              " ('Pullover', 'Shirt'),\n",
              " ('Sneaker', 'Sneaker'),\n",
              " ('T-shirt/top', 'T-shirt/top'),\n",
              " ('Sneaker', 'Sneaker'),\n",
              " ('Bag', 'Bag'),\n",
              " ('Ankle boot', 'Ankle boot'),\n",
              " ('Pullover', 'Pullover'),\n",
              " ('Ankle boot', 'Ankle boot'),\n",
              " ('T-shirt/top', 'T-shirt/top'),\n",
              " ('Sandal', 'Sandal'),\n",
              " ('Trouser', 'Trouser'),\n",
              " ('Coat', 'Coat'),\n",
              " ('Coat', 'Pullover'),\n",
              " ('Sandal', 'Sandal'),\n",
              " ('Shirt', 'Shirt'),\n",
              " ('Ankle boot', 'Ankle boot'),\n",
              " ('Pullover', 'Pullover'),\n",
              " ('Shirt', 'Pullover'),\n",
              " ('Bag', 'Bag'),\n",
              " ('Shirt', 'Shirt'),\n",
              " ('Coat', 'Coat'),\n",
              " ('Pullover', 'Shirt'),\n",
              " ('Pullover', 'Coat'),\n",
              " ('Ankle boot', 'Ankle boot'),\n",
              " ('Sneaker', 'Sneaker'),\n",
              " ('Shirt', 'Shirt'),\n",
              " ('Sandal', 'Sandal'),\n",
              " ('Sandal', 'Sandal'),\n",
              " ('Pullover', 'Coat'),\n",
              " ('Bag', 'Bag'),\n",
              " ('Sandal', 'Sandal'),\n",
              " ('Pullover', 'Pullover'),\n",
              " ('Dress', 'Dress'),\n",
              " ('T-shirt/top', 'T-shirt/top'),\n",
              " ('Coat', 'Coat'),\n",
              " ('Bag', 'Bag'),\n",
              " ('T-shirt/top', 'T-shirt/top'),\n",
              " ('T-shirt/top', 'T-shirt/top'),\n",
              " ('Shirt', 'Shirt'),\n",
              " ('Dress', 'Dress'),\n",
              " ('Bag', 'Bag'),\n",
              " ('Ankle boot', 'Ankle boot'),\n",
              " ('Shirt', 'Shirt'),\n",
              " ('Trouser', 'Trouser'),\n",
              " ('Dress', 'Shirt'),\n",
              " ('T-shirt/top', 'T-shirt/top'),\n",
              " ('Pullover', 'Pullover'),\n",
              " ('Dress', 'Dress'),\n",
              " ('T-shirt/top', 'T-shirt/top'),\n",
              " ('Bag', 'Bag'),\n",
              " ('Dress', 'Dress'),\n",
              " ('Sneaker', 'Sneaker'),\n",
              " ('Coat', 'Coat'),\n",
              " ('T-shirt/top', 'T-shirt/top'),\n",
              " ('Trouser', 'Trouser'),\n",
              " ('Shirt', 'Pullover'),\n",
              " ('Dress', 'Dress'),\n",
              " ('T-shirt/top', 'T-shirt/top'),\n",
              " ('Shirt', 'Shirt'),\n",
              " ('Shirt', 'Shirt'),\n",
              " ('Sneaker', 'Sneaker'),\n",
              " ('Sandal', 'Sandal'),\n",
              " ('Coat', 'Coat'),\n",
              " ('Sandal', 'Sandal'),\n",
              " ('Ankle boot', 'Ankle boot'),\n",
              " ('Sandal', 'Sandal'),\n",
              " ('Shirt', 'Shirt'),\n",
              " ('Sandal', 'Sandal'),\n",
              " ('Sandal', 'Sandal'),\n",
              " ('Trouser', 'Trouser'),\n",
              " ('Ankle boot', 'Ankle boot'),\n",
              " ('Bag', 'Bag'),\n",
              " ('Bag', 'Dress'),\n",
              " ('Dress', 'Dress'),\n",
              " ('Dress', 'Dress'),\n",
              " ('Shirt', 'Shirt'),\n",
              " ('Bag', 'Bag'),\n",
              " ('T-shirt/top', 'T-shirt/top'),\n",
              " ('T-shirt/top', 'T-shirt/top'),\n",
              " ('Pullover', 'Pullover'),\n",
              " ('Ankle boot', 'Ankle boot'),\n",
              " ('Sneaker', 'Sneaker'),\n",
              " ('Sneaker', 'Sneaker'),\n",
              " ('Trouser', 'Trouser'),\n",
              " ('Dress', 'Dress'),\n",
              " ('Shirt', 'Shirt'),\n",
              " ('Coat', 'Shirt'),\n",
              " ('Pullover', 'Pullover'),\n",
              " ('Coat', 'Coat'),\n",
              " ('Ankle boot', 'Sneaker'),\n",
              " ('Trouser', 'Trouser'),\n",
              " ('Shirt', 'Shirt'),\n",
              " ('Coat', 'Coat'),\n",
              " ('Bag', 'T-shirt/top'),\n",
              " ('Pullover', 'Pullover'),\n",
              " ('Shirt', 'Shirt'),\n",
              " ('Sandal', 'Sandal'),\n",
              " ('Coat', 'Shirt'),\n",
              " ('Shirt', 'Pullover'),\n",
              " ('Sneaker', 'Sneaker'),\n",
              " ('Sneaker', 'Sneaker'),\n",
              " ('Sneaker', 'Sneaker'),\n",
              " ('Dress', 'Dress'),\n",
              " ('Dress', 'Dress'),\n",
              " ('Sneaker', 'Sneaker'),\n",
              " ('T-shirt/top', 'Shirt'),\n",
              " ('Sneaker', 'Sneaker'),\n",
              " ('Trouser', 'Trouser'),\n",
              " ('Dress', 'Dress'),\n",
              " ('Sneaker', 'Sneaker'),\n",
              " ('Pullover', 'Shirt'),\n",
              " ('Pullover', 'Pullover'),\n",
              " ('Dress', 'Dress'),\n",
              " ('Coat', 'Coat'),\n",
              " ('T-shirt/top', 'T-shirt/top'),\n",
              " ('Dress', 'Dress'),\n",
              " ('Trouser', 'Trouser'),\n",
              " ('Shirt', 'T-shirt/top'),\n",
              " ('Trouser', 'Trouser'),\n",
              " ('Ankle boot', 'Ankle boot'),\n",
              " ('Coat', 'Coat'),\n",
              " ('Ankle boot', 'Ankle boot'),\n",
              " ('Ankle boot', 'Ankle boot'),\n",
              " ('Trouser', 'Trouser'),\n",
              " ('Sneaker', 'Sneaker'),\n",
              " ('Bag', 'Bag'),\n",
              " ('Dress', 'Dress'),\n",
              " ('Shirt', 'Shirt'),\n",
              " ('T-shirt/top', 'T-shirt/top'),\n",
              " ('Pullover', 'Pullover'),\n",
              " ('Coat', 'Coat'),\n",
              " ('Bag', 'Bag'),\n",
              " ('T-shirt/top', 'Shirt'),\n",
              " ('Trouser', 'Trouser'),\n",
              " ('Pullover', 'Shirt'),\n",
              " ('Pullover', 'Pullover'),\n",
              " ('Coat', 'Coat'),\n",
              " ('Coat', 'Coat'),\n",
              " ('Sneaker', 'Sneaker'),\n",
              " ('Dress', 'Dress'),\n",
              " ('Pullover', 'Coat'),\n",
              " ('Pullover', 'Pullover'),\n",
              " ('Sandal', 'Sandal'),\n",
              " ('T-shirt/top', 'T-shirt/top'),\n",
              " ('Sneaker', 'Sneaker'),\n",
              " ('Ankle boot', 'Ankle boot'),\n",
              " ('Coat', 'Coat'),\n",
              " ('T-shirt/top', 'T-shirt/top'),\n",
              " ('Ankle boot', 'Ankle boot'),\n",
              " ('Dress', 'Dress'),\n",
              " ('Ankle boot', 'Ankle boot'),\n",
              " ('Coat', 'Dress'),\n",
              " ('Pullover', 'Pullover'),\n",
              " ('Sandal', 'Sandal'),\n",
              " ('T-shirt/top', 'Shirt'),\n",
              " ('Pullover', 'T-shirt/top'),\n",
              " ('Dress', 'Dress'),\n",
              " ('Sandal', 'Sandal'),\n",
              " ('Bag', 'Bag'),\n",
              " ('Trouser', 'Trouser'),\n",
              " ('Shirt', 'Shirt'),\n",
              " ('Pullover', 'Pullover'),\n",
              " ('Shirt', 'Shirt'),\n",
              " ('Shirt', 'Shirt'),\n",
              " ('Coat', 'Coat'),\n",
              " ('Ankle boot', 'Ankle boot'),\n",
              " ('Sandal', 'Sandal'),\n",
              " ('Pullover', 'Pullover'),\n",
              " ('T-shirt/top', 'T-shirt/top'),\n",
              " ('Coat', 'Shirt'),\n",
              " ('Shirt', 'Shirt'),\n",
              " ('Trouser', 'Trouser'),\n",
              " ('Pullover', 'Pullover'),\n",
              " ('T-shirt/top', 'T-shirt/top'),\n",
              " ('Ankle boot', 'Ankle boot'),\n",
              " ('Sneaker', 'Sneaker'),\n",
              " ('T-shirt/top', 'T-shirt/top'),\n",
              " ('Coat', 'Coat'),\n",
              " ('Coat', 'Coat'),\n",
              " ('Shirt', 'T-shirt/top'),\n",
              " ('Shirt', 'Shirt'),\n",
              " ('Pullover', 'Pullover'),\n",
              " ('Trouser', 'Dress'),\n",
              " ('T-shirt/top', 'T-shirt/top'),\n",
              " ('Shirt', 'Shirt'),\n",
              " ('Sneaker', 'Sneaker'),\n",
              " ('Pullover', 'Pullover'),\n",
              " ('Ankle boot', 'Ankle boot'),\n",
              " ('Coat', 'Coat'),\n",
              " ('Pullover', 'Pullover'),\n",
              " ('Trouser', 'Trouser'),\n",
              " ('Sandal', 'Sandal'),\n",
              " ('Coat', 'Coat'),\n",
              " ('Sandal', 'Sandal'),\n",
              " ('Dress', 'Dress'),\n",
              " ('Bag', 'Bag'),\n",
              " ('Sandal', 'Sandal'),\n",
              " ('Bag', 'Bag'),\n",
              " ('Coat', 'Coat'),\n",
              " ('Coat', 'Coat'),\n",
              " ('Bag', 'Bag'),\n",
              " ('Ankle boot', 'Ankle boot'),\n",
              " ('Bag', 'Bag'),\n",
              " ('Shirt', 'Shirt'),\n",
              " ('Pullover', 'Pullover'),\n",
              " ('Coat', 'Coat'),\n",
              " ('Coat', 'Coat'),\n",
              " ('Pullover', 'Pullover'),\n",
              " ('Coat', 'Coat'),\n",
              " ('Trouser', 'Trouser'),\n",
              " ('Shirt', 'Shirt'),\n",
              " ('Trouser', 'Trouser'),\n",
              " ('Dress', 'Dress'),\n",
              " ('T-shirt/top', 'T-shirt/top'),\n",
              " ('Ankle boot', 'Sneaker'),\n",
              " ('Bag', 'Bag'),\n",
              " ('Bag', 'Bag'),\n",
              " ('Shirt', 'Coat'),\n",
              " ('Sandal', 'Sandal'),\n",
              " ('Dress', 'Dress'),\n",
              " ('Trouser', 'Trouser'),\n",
              " ('Ankle boot', 'Ankle boot'),\n",
              " ('Sandal', 'Sandal'),\n",
              " ('Dress', 'Dress'),\n",
              " ('Dress', 'Dress'),\n",
              " ('T-shirt/top', 'T-shirt/top'),\n",
              " ('Trouser', 'Trouser'),\n",
              " ('T-shirt/top', 'Pullover'),\n",
              " ('Pullover', 'Pullover'),\n",
              " ('Ankle boot', 'Ankle boot'),\n",
              " ('Pullover', 'Coat'),\n",
              " ('T-shirt/top', 'T-shirt/top'),\n",
              " ('Shirt', 'Shirt'),\n",
              " ('Dress', 'T-shirt/top'),\n",
              " ('Coat', 'Coat'),\n",
              " ('Pullover', 'Pullover'),\n",
              " ('T-shirt/top', 'T-shirt/top'),\n",
              " ('T-shirt/top', 'T-shirt/top'),\n",
              " ('Dress', 'Dress'),\n",
              " ('Dress', 'Dress'),\n",
              " ('Bag', 'Bag'),\n",
              " ('Pullover', 'Pullover'),\n",
              " ('Bag', 'Bag'),\n",
              " ('Ankle boot', 'Ankle boot'),\n",
              " ('Coat', 'Coat'),\n",
              " ('T-shirt/top', 'T-shirt/top'),\n",
              " ('Sneaker', 'Sneaker'),\n",
              " ('Shirt', 'T-shirt/top'),\n",
              " ('Coat', 'Coat'),\n",
              " ('Coat', 'Shirt'),\n",
              " ('Ankle boot', 'Ankle boot'),\n",
              " ('Pullover', 'Pullover'),\n",
              " ('Ankle boot', 'Ankle boot'),\n",
              " ('Sandal', 'Sandal'),\n",
              " ('Ankle boot', 'Ankle boot'),\n",
              " ('Dress', 'Dress'),\n",
              " ('Sneaker', 'Sneaker'),\n",
              " ('Sandal', 'Sandal'),\n",
              " ('Sneaker', 'Ankle boot'),\n",
              " ('Bag', 'Bag'),\n",
              " ('Trouser', 'Trouser'),\n",
              " ('T-shirt/top', 'T-shirt/top'),\n",
              " ('T-shirt/top', 'T-shirt/top'),\n",
              " ('Dress', 'Shirt'),\n",
              " ('Coat', 'Shirt'),\n",
              " ('Bag', 'Bag'),\n",
              " ('Ankle boot', 'Ankle boot'),\n",
              " ('Sneaker', 'Sneaker'),\n",
              " ('Ankle boot', 'Ankle boot'),\n",
              " ('Trouser', 'Trouser'),\n",
              " ('Pullover', 'Pullover'),\n",
              " ('Sneaker', 'Sneaker'),\n",
              " ('T-shirt/top', 'T-shirt/top'),\n",
              " ('Pullover', 'Pullover'),\n",
              " ('T-shirt/top', 'T-shirt/top'),\n",
              " ('Sandal', 'Sandal'),\n",
              " ('Sneaker', 'Sneaker'),\n",
              " ('Trouser', 'Trouser'),\n",
              " ('Bag', 'Bag'),\n",
              " ('Pullover', 'Trouser'),\n",
              " ('Pullover', 'Pullover'),\n",
              " ('Pullover', 'Pullover'),\n",
              " ('Pullover', 'Pullover'),\n",
              " ('Coat', 'Coat'),\n",
              " ('Pullover', 'Coat'),\n",
              " ('Shirt', 'Shirt'),\n",
              " ('Trouser', 'Trouser'),\n",
              " ('Ankle boot', 'Ankle boot'),\n",
              " ('Bag', 'Bag'),\n",
              " ('Sandal', 'Sandal'),\n",
              " ('Trouser', 'Trouser'),\n",
              " ('Ankle boot', 'Ankle boot'),\n",
              " ('Trouser', 'Trouser'),\n",
              " ('Pullover', 'Pullover'),\n",
              " ('Bag', 'Bag'),\n",
              " ('Dress', 'Dress'),\n",
              " ('Bag', 'Bag'),\n",
              " ('Ankle boot', 'Ankle boot'),\n",
              " ('Pullover', 'Pullover'),\n",
              " ('Coat', 'Shirt'),\n",
              " ('Pullover', 'Shirt'),\n",
              " ('Bag', 'Bag'),\n",
              " ('Bag', 'Bag'),\n",
              " ('Pullover', 'Pullover'),\n",
              " ('T-shirt/top', 'Sandal'),\n",
              " ('Sandal', 'Sandal'),\n",
              " ('Bag', 'Bag'),\n",
              " ('Bag', 'Bag'),\n",
              " ('Sandal', 'Sandal'),\n",
              " ('Dress', 'Dress'),\n",
              " ('Ankle boot', 'Ankle boot'),\n",
              " ('Coat', 'Coat'),\n",
              " ('Dress', 'Dress'),\n",
              " ('Coat', 'Coat'),\n",
              " ('Coat', 'Coat'),\n",
              " ('Sandal', 'Sandal'),\n",
              " ('Trouser', 'Trouser'),\n",
              " ('T-shirt/top', 'T-shirt/top'),\n",
              " ('Trouser', 'Trouser'),\n",
              " ('Pullover', 'Pullover'),\n",
              " ('T-shirt/top', 'T-shirt/top'),\n",
              " ('Shirt', 'Shirt'),\n",
              " ('Ankle boot', 'Ankle boot'),\n",
              " ('Shirt', 'Shirt'),\n",
              " ('Trouser', 'Trouser'),\n",
              " ('Sandal', 'Sandal'),\n",
              " ('Trouser', 'Trouser'),\n",
              " ('Trouser', 'Trouser'),\n",
              " ('Trouser', 'Trouser'),\n",
              " ('Ankle boot', 'Ankle boot'),\n",
              " ('Dress', 'Dress'),\n",
              " ('Coat', 'Coat'),\n",
              " ('Sandal', 'Sandal'),\n",
              " ('Dress', 'Dress'),\n",
              " ('Shirt', 'Shirt'),\n",
              " ('Shirt', 'Pullover'),\n",
              " ('Shirt', 'T-shirt/top'),\n",
              " ('Coat', 'Coat'),\n",
              " ('Shirt', 'T-shirt/top'),\n",
              " ('T-shirt/top', 'T-shirt/top'),\n",
              " ('Sandal', 'Sandal'),\n",
              " ('Bag', 'Bag'),\n",
              " ('Dress', 'T-shirt/top'),\n",
              " ('Dress', 'Shirt'),\n",
              " ('Coat', 'Coat'),\n",
              " ('Shirt', 'T-shirt/top'),\n",
              " ('Sneaker', 'Sneaker'),\n",
              " ('Sneaker', 'Sneaker'),\n",
              " ('Bag', 'Bag'),\n",
              " ('Ankle boot', 'Ankle boot'),\n",
              " ('T-shirt/top', 'Dress'),\n",
              " ('Dress', 'Shirt'),\n",
              " ('Bag', 'Bag'),\n",
              " ('Sneaker', 'Sneaker'),\n",
              " ('Shirt', 'Shirt'),\n",
              " ('Sneaker', 'Sneaker'),\n",
              " ('Ankle boot', 'Ankle boot'),\n",
              " ('Dress', 'Dress'),\n",
              " ('Coat', 'Coat'),\n",
              " ('Shirt', 'T-shirt/top'),\n",
              " ('Shirt', 'T-shirt/top'),\n",
              " ('Sandal', 'Sandal'),\n",
              " ('T-shirt/top', 'T-shirt/top'),\n",
              " ('Trouser', 'Trouser'),\n",
              " ('Trouser', 'Trouser'),\n",
              " ('Sandal', 'Sandal'),\n",
              " ('Ankle boot', 'Ankle boot'),\n",
              " ('Coat', 'Coat'),\n",
              " ('Shirt', 'Pullover'),\n",
              " ('Sandal', 'Sandal'),\n",
              " ('Sneaker', 'Sneaker'),\n",
              " ('Bag', 'Bag'),\n",
              " ('Trouser', 'Trouser'),\n",
              " ('Pullover', 'Pullover'),\n",
              " ('Ankle boot', 'Ankle boot'),\n",
              " ('Sneaker', 'Sneaker'),\n",
              " ('Sneaker', 'Sneaker'),\n",
              " ('Trouser', 'Trouser'),\n",
              " ('T-shirt/top', 'T-shirt/top'),\n",
              " ('Ankle boot', 'Ankle boot'),\n",
              " ('Dress', 'Dress'),\n",
              " ('Pullover', 'Pullover'),\n",
              " ('Ankle boot', 'Ankle boot'),\n",
              " ('T-shirt/top', 'T-shirt/top'),\n",
              " ('Sneaker', 'Sneaker'),\n",
              " ('Shirt', 'Shirt'),\n",
              " ('Bag', 'Bag'),\n",
              " ('Pullover', 'Pullover'),\n",
              " ('Sneaker', 'Sneaker'),\n",
              " ('T-shirt/top', 'T-shirt/top'),\n",
              " ('Pullover', 'Pullover'),\n",
              " ('Dress', 'Dress'),\n",
              " ('Bag', 'Bag'),\n",
              " ('Pullover', 'Pullover'),\n",
              " ('Pullover', 'Pullover'),\n",
              " ('Shirt', 'Shirt'),\n",
              " ('Ankle boot', 'Ankle boot'),\n",
              " ('Dress', 'Dress'),\n",
              " ('T-shirt/top', 'T-shirt/top'),\n",
              " ('Sneaker', 'Sneaker'),\n",
              " ('Bag', 'Bag'),\n",
              " ('Shirt', 'T-shirt/top'),\n",
              " ('Pullover', 'Pullover'),\n",
              " ('Ankle boot', 'Ankle boot'),\n",
              " ('Coat', 'Coat'),\n",
              " ('Pullover', 'Pullover'),\n",
              " ('Shirt', 'Shirt'),\n",
              " ('Shirt', 'Coat'),\n",
              " ('Bag', 'Trouser'),\n",
              " ('T-shirt/top', 'T-shirt/top'),\n",
              " ('Coat', 'Coat'),\n",
              " ('Coat', 'Coat'),\n",
              " ('Coat', 'Pullover'),\n",
              " ('Sneaker', 'Sneaker'),\n",
              " ('Sandal', 'Sandal'),\n",
              " ('Bag', 'Bag'),\n",
              " ('Coat', 'Coat'),\n",
              " ('Ankle boot', 'Ankle boot'),\n",
              " ('Trouser', 'Trouser'),\n",
              " ('T-shirt/top', 'T-shirt/top'),\n",
              " ('Sandal', 'Sandal'),\n",
              " ('Coat', 'Coat'),\n",
              " ('Coat', 'Coat'),\n",
              " ('Coat', 'Coat'),\n",
              " ('T-shirt/top', 'T-shirt/top'),\n",
              " ('T-shirt/top', 'T-shirt/top'),\n",
              " ('Coat', 'Coat'),\n",
              " ('Sandal', 'Sandal'),\n",
              " ('Shirt', 'Shirt'),\n",
              " ('T-shirt/top', 'T-shirt/top'),\n",
              " ('Coat', 'Coat'),\n",
              " ('Sandal', 'Sandal'),\n",
              " ('Coat', 'Coat'),\n",
              " ('Trouser', 'Trouser'),\n",
              " ('Dress', 'Bag'),\n",
              " ('Trouser', 'Trouser'),\n",
              " ('Trouser', 'Dress'),\n",
              " ('Shirt', 'Shirt'),\n",
              " ('Coat', 'Coat'),\n",
              " ('Dress', 'Dress'),\n",
              " ('Bag', 'Bag'),\n",
              " ('Pullover', 'Pullover'),\n",
              " ('Bag', 'Bag'),\n",
              " ('Pullover', 'Shirt'),\n",
              " ('Sneaker', 'Sandal'),\n",
              " ('T-shirt/top', 'T-shirt/top'),\n",
              " ('Coat', 'Coat'),\n",
              " ('T-shirt/top', 'T-shirt/top'),\n",
              " ('Bag', 'Bag'),\n",
              " ('Sandal', 'Sandal'),\n",
              " ('T-shirt/top', 'T-shirt/top'),\n",
              " ('Bag', 'Bag'),\n",
              " ('Pullover', 'Pullover'),\n",
              " ('Ankle boot', 'Ankle boot'),\n",
              " ('T-shirt/top', 'T-shirt/top'),\n",
              " ('Bag', 'Bag'),\n",
              " ('Ankle boot', 'Ankle boot'),\n",
              " ('Shirt', 'Shirt'),\n",
              " ('Coat', 'Dress'),\n",
              " ('Pullover', 'Pullover'),\n",
              " ('Ankle boot', 'Ankle boot'),\n",
              " ('Dress', 'Pullover'),\n",
              " ('Coat', 'Coat'),\n",
              " ('Sandal', 'Sandal'),\n",
              " ('T-shirt/top', 'T-shirt/top'),\n",
              " ('Ankle boot', 'Ankle boot'),\n",
              " ('Sandal', 'Sandal'),\n",
              " ('Dress', 'Dress'),\n",
              " ('Shirt', 'Shirt'),\n",
              " ('Shirt', 'Shirt'),\n",
              " ('Bag', 'T-shirt/top'),\n",
              " ('Dress', 'Dress'),\n",
              " ('Dress', 'Dress'),\n",
              " ('Bag', 'Bag'),\n",
              " ('Trouser', 'Dress'),\n",
              " ('Coat', 'Coat'),\n",
              " ('T-shirt/top', 'T-shirt/top'),\n",
              " ('Ankle boot', 'Ankle boot'),\n",
              " ('Sneaker', 'Sneaker'),\n",
              " ('Ankle boot', 'Ankle boot'),\n",
              " ('Coat', 'Coat'),\n",
              " ('Bag', 'Bag'),\n",
              " ('Ankle boot', 'Ankle boot'),\n",
              " ('Trouser', 'Trouser'),\n",
              " ('Shirt', 'Dress'),\n",
              " ('Sneaker', 'Sneaker'),\n",
              " ('Dress', 'Dress'),\n",
              " ('T-shirt/top', 'T-shirt/top'),\n",
              " ('Pullover', 'Pullover'),\n",
              " ('Shirt', 'Shirt'),\n",
              " ('Sneaker', 'Sneaker'),\n",
              " ('Trouser', 'Trouser'),\n",
              " ('T-shirt/top', 'T-shirt/top'),\n",
              " ('T-shirt/top', 'T-shirt/top'),\n",
              " ('Bag', 'Bag'),\n",
              " ('Sandal', 'Sneaker'),\n",
              " ('Pullover', 'Pullover'),\n",
              " ('Shirt', 'Shirt'),\n",
              " ('Shirt', 'Coat'),\n",
              " ('Shirt', 'Shirt'),\n",
              " ('Coat', 'Coat'),\n",
              " ('Trouser', 'Trouser'),\n",
              " ('Sandal', 'Sandal'),\n",
              " ('Ankle boot', 'Ankle boot'),\n",
              " ('T-shirt/top', 'T-shirt/top'),\n",
              " ('Pullover', 'T-shirt/top'),\n",
              " ('Trouser', 'Trouser'),\n",
              " ('Shirt', 'Shirt'),\n",
              " ('Sandal', 'Sandal'),\n",
              " ('T-shirt/top', 'T-shirt/top'),\n",
              " ('T-shirt/top', 'T-shirt/top'),\n",
              " ('Dress', 'Dress'),\n",
              " ('Dress', 'Dress'),\n",
              " ('Dress', 'Dress'),\n",
              " ('Bag', 'Bag'),\n",
              " ('Trouser', 'Trouser'),\n",
              " ('Trouser', 'Trouser'),\n",
              " ('Bag', 'Bag'),\n",
              " ('Sandal', 'Sandal'),\n",
              " ('Sneaker', 'Sneaker'),\n",
              " ('Sneaker', 'Ankle boot'),\n",
              " ('Bag', 'Bag'),\n",
              " ('Sneaker', 'Sneaker'),\n",
              " ('Pullover', 'Pullover'),\n",
              " ('T-shirt/top', 'T-shirt/top'),\n",
              " ('Sneaker', 'Sneaker'),\n",
              " ('Dress', 'T-shirt/top'),\n",
              " ('Bag', 'Bag'),\n",
              " ('T-shirt/top', 'T-shirt/top'),\n",
              " ('Ankle boot', 'Ankle boot'),\n",
              " ('Sneaker', 'Sneaker'),\n",
              " ('Shirt', 'Shirt'),\n",
              " ('Trouser', 'Trouser'),\n",
              " ('Pullover', 'T-shirt/top'),\n",
              " ('Shirt', 'Pullover'),\n",
              " ('Coat', 'Coat'),\n",
              " ('Bag', 'Bag'),\n",
              " ('T-shirt/top', 'T-shirt/top'),\n",
              " ('Shirt', 'Shirt'),\n",
              " ('Dress', 'Dress'),\n",
              " ('Shirt', 'Shirt'),\n",
              " ('Bag', 'Bag'),\n",
              " ('Coat', 'Coat'),\n",
              " ('T-shirt/top', 'T-shirt/top'),\n",
              " ('Bag', 'Bag'),\n",
              " ('Ankle boot', 'Ankle boot'),\n",
              " ('Pullover', 'Pullover'),\n",
              " ('Coat', 'Coat'),\n",
              " ('Sandal', 'Sandal'),\n",
              " ('Ankle boot', 'Ankle boot'),\n",
              " ('Trouser', 'Trouser'),\n",
              " ('Coat', 'Coat'),\n",
              " ('Coat', 'Coat'),\n",
              " ('Ankle boot', 'Ankle boot'),\n",
              " ('Pullover', 'Pullover'),\n",
              " ('Trouser', 'Trouser'),\n",
              " ('Sneaker', 'Sneaker'),\n",
              " ('Ankle boot', 'Ankle boot'),\n",
              " ('Sandal', 'Sandal'),\n",
              " ('Bag', 'Bag'),\n",
              " ('Trouser', 'Dress'),\n",
              " ('Sneaker', 'Sneaker'),\n",
              " ('Sneaker', 'Sneaker'),\n",
              " ('Trouser', 'Trouser'),\n",
              " ('Trouser', 'Trouser'),\n",
              " ('Trouser', 'Trouser'),\n",
              " ('Shirt', 'Shirt'),\n",
              " ('Ankle boot', 'Ankle boot'),\n",
              " ('Sandal', 'Sandal'),\n",
              " ('Dress', 'Dress'),\n",
              " ('Bag', 'Bag'),\n",
              " ('Coat', 'Coat'),\n",
              " ('Pullover', 'Pullover'),\n",
              " ('Sneaker', 'Ankle boot'),\n",
              " ('Coat', 'Pullover'),\n",
              " ('Bag', 'Bag'),\n",
              " ('Dress', 'Dress'),\n",
              " ('Pullover', 'Pullover'),\n",
              " ('Coat', 'Pullover'),\n",
              " ('Coat', 'Coat'),\n",
              " ('Sneaker', 'Sneaker'),\n",
              " ('Trouser', 'Trouser'),\n",
              " ('Coat', 'Coat'),\n",
              " ('Ankle boot', 'Ankle boot'),\n",
              " ('Dress', 'Dress'),\n",
              " ('Sandal', 'Sandal'),\n",
              " ('Bag', 'Bag'),\n",
              " ('Sandal', 'Sandal'),\n",
              " ('Coat', 'Coat'),\n",
              " ('Sneaker', 'Sneaker'),\n",
              " ('Pullover', 'Pullover'),\n",
              " ('Bag', 'Bag'),\n",
              " ('Sandal', 'Sandal'),\n",
              " ('Ankle boot', 'Ankle boot'),\n",
              " ('Dress', 'Dress'),\n",
              " ('Dress', 'Dress'),\n",
              " ('Shirt', 'Shirt'),\n",
              " ('Sneaker', 'Sneaker'),\n",
              " ('Trouser', 'Trouser'),\n",
              " ('Sneaker', 'Sneaker'),\n",
              " ('Dress', 'Dress'),\n",
              " ('Sandal', 'Sandal'),\n",
              " ('Coat', 'Coat'),\n",
              " ('Coat', 'Coat'),\n",
              " ('Sandal', 'Sandal'),\n",
              " ('Bag', 'Bag'),\n",
              " ('Dress', 'Dress'),\n",
              " ('Sneaker', 'Sneaker'),\n",
              " ('Trouser', 'Trouser'),\n",
              " ('Pullover', 'Pullover'),\n",
              " ('Shirt', 'Shirt'),\n",
              " ('Trouser', 'Trouser'),\n",
              " ('Ankle boot', 'Ankle boot'),\n",
              " ('Bag', 'Bag'),\n",
              " ('Pullover', 'Pullover'),\n",
              " ('Sneaker', 'Sneaker'),\n",
              " ('Trouser', 'Trouser'),\n",
              " ('Dress', 'Dress'),\n",
              " ('Sneaker', 'Sneaker'),\n",
              " ('Sandal', 'Sandal'),\n",
              " ('Ankle boot', 'Ankle boot'),\n",
              " ('Ankle boot', 'Ankle boot'),\n",
              " ('Trouser', 'Trouser'),\n",
              " ('Bag', 'Bag'),\n",
              " ('Pullover', 'Coat'),\n",
              " ('Sandal', 'Sandal'),\n",
              " ('Sneaker', 'Sneaker'),\n",
              " ('Trouser', 'Trouser'),\n",
              " ('Ankle boot', 'Ankle boot'),\n",
              " ('Bag', 'Bag'),\n",
              " ('Trouser', 'Trouser'),\n",
              " ('T-shirt/top', 'T-shirt/top'),\n",
              " ('T-shirt/top', 'T-shirt/top'),\n",
              " ('Shirt', 'Pullover'),\n",
              " ('Trouser', 'Trouser'),\n",
              " ('Sneaker', 'Sneaker'),\n",
              " ('Trouser', 'Trouser'),\n",
              " ('Trouser', 'Trouser'),\n",
              " ('Sandal', 'Sandal'),\n",
              " ('Sneaker', 'Sneaker'),\n",
              " ('Trouser', 'Trouser'),\n",
              " ('Sandal', 'Sandal'),\n",
              " ('Pullover', 'Pullover'),\n",
              " ('Pullover', 'Pullover'),\n",
              " ('Dress', 'Dress'),\n",
              " ('Dress', 'Dress'),\n",
              " ('Trouser', 'Trouser'),\n",
              " ('Trouser', 'Trouser'),\n",
              " ('Coat', 'Coat'),\n",
              " ('Ankle boot', 'Ankle boot'),\n",
              " ('Coat', 'Coat'),\n",
              " ('Dress', 'Dress'),\n",
              " ('Sneaker', 'Sneaker'),\n",
              " ('Sneaker', 'Sneaker'),\n",
              " ('T-shirt/top', 'T-shirt/top'),\n",
              " ('Bag', 'Bag'),\n",
              " ('Ankle boot', 'Ankle boot'),\n",
              " ('Ankle boot', 'Ankle boot'),\n",
              " ('Shirt', 'Shirt'),\n",
              " ('Trouser', 'Trouser'),\n",
              " ('Dress', 'Trouser'),\n",
              " ('Coat', 'Bag'),\n",
              " ('T-shirt/top', 'T-shirt/top'),\n",
              " ('T-shirt/top', 'Dress'),\n",
              " ('Sandal', 'Sandal'),\n",
              " ('Ankle boot', 'Ankle boot'),\n",
              " ('Pullover', 'Pullover'),\n",
              " ('T-shirt/top', 'T-shirt/top'),\n",
              " ('Sandal', 'Sandal'),\n",
              " ('Sandal', 'Sandal'),\n",
              " ('Trouser', 'Trouser'),\n",
              " ('Sandal', 'Ankle boot'),\n",
              " ('Sneaker', 'Sneaker'),\n",
              " ('Bag', 'Bag'),\n",
              " ('Sneaker', 'Sneaker'),\n",
              " ('Sandal', 'Sneaker'),\n",
              " ('Dress', 'Dress'),\n",
              " ('Shirt', 'Shirt'),\n",
              " ('Coat', 'Pullover'),\n",
              " ('T-shirt/top', 'T-shirt/top'),\n",
              " ('Coat', 'Coat'),\n",
              " ('T-shirt/top', 'T-shirt/top'),\n",
              " ('Shirt', 'Pullover'),\n",
              " ('T-shirt/top', 'T-shirt/top'),\n",
              " ('Pullover', 'Pullover'),\n",
              " ('Sandal', 'Sandal'),\n",
              " ('Sandal', 'Sandal'),\n",
              " ('Trouser', 'Trouser'),\n",
              " ('Pullover', 'Pullover'),\n",
              " ('T-shirt/top', 'T-shirt/top'),\n",
              " ('Ankle boot', 'Ankle boot'),\n",
              " ('Dress', 'Dress'),\n",
              " ('Sneaker', 'Sneaker'),\n",
              " ('Bag', 'Bag'),\n",
              " ('Shirt', 'Coat'),\n",
              " ('Bag', 'Bag'),\n",
              " ('Dress', 'Dress'),\n",
              " ('Coat', 'Coat'),\n",
              " ('Sneaker', 'Sneaker'),\n",
              " ('T-shirt/top', 'Shirt'),\n",
              " ('Sneaker', 'Sneaker'),\n",
              " ('Coat', 'Coat'),\n",
              " ('Bag', 'Bag'),\n",
              " ('T-shirt/top', 'Bag'),\n",
              " ('Dress', 'Dress'),\n",
              " ('Coat', 'Coat'),\n",
              " ('Coat', 'Coat'),\n",
              " ('Dress', 'Dress'),\n",
              " ('Coat', 'Shirt'),\n",
              " ('Ankle boot', 'Ankle boot'),\n",
              " ('T-shirt/top', 'Shirt'),\n",
              " ('Shirt', 'Shirt'),\n",
              " ('Coat', 'Coat'),\n",
              " ('Ankle boot', 'Ankle boot'),\n",
              " ('Trouser', 'Trouser'),\n",
              " ('Bag', 'Bag'),\n",
              " ('Trouser', 'Trouser'),\n",
              " ('Sneaker', 'Sneaker'),\n",
              " ('Sandal', 'Sandal'),\n",
              " ('Sandal', 'Sandal'),\n",
              " ('Shirt', 'Shirt'),\n",
              " ('T-shirt/top', 'T-shirt/top'),\n",
              " ('Pullover', 'Pullover'),\n",
              " ('Trouser', 'Trouser'),\n",
              " ('T-shirt/top', 'T-shirt/top'),\n",
              " ('Sandal', 'Sandal'),\n",
              " ('Coat', 'Coat'),\n",
              " ('T-shirt/top', 'T-shirt/top'),\n",
              " ('T-shirt/top', 'T-shirt/top'),\n",
              " ('Shirt', 'Pullover'),\n",
              " ('Sneaker', 'Sneaker'),\n",
              " ('Sandal', 'Sandal'),\n",
              " ('T-shirt/top', 'T-shirt/top'),\n",
              " ('Dress', 'Dress'),\n",
              " ('Sandal', 'Sandal'),\n",
              " ('Ankle boot', 'Ankle boot'),\n",
              " ('Shirt', 'Shirt'),\n",
              " ('Bag', 'Bag'),\n",
              " ('T-shirt/top', 'Shirt'),\n",
              " ('Shirt', 'T-shirt/top'),\n",
              " ('Coat', 'Coat'),\n",
              " ('Shirt', 'T-shirt/top'),\n",
              " ('Pullover', 'Pullover'),\n",
              " ('Ankle boot', 'Ankle boot'),\n",
              " ('Shirt', 'T-shirt/top'),\n",
              " ('Sneaker', 'Sneaker'),\n",
              " ('Sneaker', 'Sneaker'),\n",
              " ('Trouser', 'Trouser'),\n",
              " ('Coat', 'Coat'),\n",
              " ('Pullover', 'Coat'),\n",
              " ('Shirt', 'T-shirt/top'),\n",
              " ('Sandal', 'Sandal'),\n",
              " ('Dress', 'T-shirt/top'),\n",
              " ('Ankle boot', 'Ankle boot'),\n",
              " ('Ankle boot', 'Ankle boot'),\n",
              " ('Bag', 'Bag'),\n",
              " ('Bag', 'Bag'),\n",
              " ('Dress', 'Dress'),\n",
              " ('T-shirt/top', 'T-shirt/top'),\n",
              " ('Pullover', 'Pullover'),\n",
              " ('Coat', 'Coat'),\n",
              " ('Shirt', 'Shirt'),\n",
              " ('Shirt', 'Shirt'),\n",
              " ('Dress', 'Dress'),\n",
              " ('Pullover', 'Pullover'),\n",
              " ('Dress', 'Dress'),\n",
              " ('Sandal', 'Sneaker'),\n",
              " ('Coat', 'Pullover'),\n",
              " ('Ankle boot', 'Ankle boot'),\n",
              " ('Dress', 'Dress'),\n",
              " ('Coat', 'Coat'),\n",
              " ('Sneaker', 'Sneaker'),\n",
              " ('Sneaker', 'Sneaker'),\n",
              " ...]"
            ]
          },
          "metadata": {},
          "execution_count": 41
        }
      ]
    },
    {
      "cell_type": "code",
      "source": [
        "from sklearn.metrics import confusion_matrix, accuracy_score, classification_report\n",
        "\n",
        "confusion_matrix(y_test, y_pred)"
      ],
      "metadata": {
        "colab": {
          "base_uri": "https://localhost:8080/"
        },
        "id": "VEhWm8tZbls3",
        "outputId": "0507460b-51ac-4ff7-ca3d-65eecd7eb3dc"
      },
      "execution_count": 44,
      "outputs": [
        {
          "output_type": "execute_result",
          "data": {
            "text/plain": [
              "array([[858,   1,  12,  34,   3,   3,  76,   0,  13,   0],\n",
              "       [  4, 966,   0,  24,   3,   0,   2,   0,   1,   0],\n",
              "       [ 28,   4, 775,  13, 108,   0,  68,   0,   4,   0],\n",
              "       [ 38,  12,  12, 876,  30,   0,  26,   0,   6,   0],\n",
              "       [  0,   1,  97,  40, 779,   1,  72,   0,  10,   0],\n",
              "       [  0,   0,   0,   2,   0, 934,   0,  37,   2,  25],\n",
              "       [181,   2, 100,  32,  76,   1, 587,   0,  21,   0],\n",
              "       [  0,   0,   0,   0,   0,  26,   0, 930,   0,  44],\n",
              "       [  8,   1,   4,   8,   3,   2,  10,   5, 959,   0],\n",
              "       [  0,   0,   0,   0,   0,   6,   0,  34,   1, 959]])"
            ]
          },
          "metadata": {},
          "execution_count": 44
        }
      ]
    },
    {
      "cell_type": "code",
      "source": [
        "accuracy_score(y_test, y_pred)"
      ],
      "metadata": {
        "colab": {
          "base_uri": "https://localhost:8080/"
        },
        "id": "j6FC0Wg8cSDf",
        "outputId": "3e37daa8-a467-49ee-ef50-c4750a55c47f"
      },
      "execution_count": 45,
      "outputs": [
        {
          "output_type": "execute_result",
          "data": {
            "text/plain": [
              "0.8623"
            ]
          },
          "metadata": {},
          "execution_count": 45
        }
      ]
    },
    {
      "cell_type": "code",
      "source": [
        "print(classification_report(y_test, y_pred))"
      ],
      "metadata": {
        "colab": {
          "base_uri": "https://localhost:8080/"
        },
        "id": "y5wHlfLxcf7z",
        "outputId": "5ff455bd-0444-4a93-dc4c-5ff60150fb3e"
      },
      "execution_count": 47,
      "outputs": [
        {
          "output_type": "stream",
          "name": "stdout",
          "text": [
            "              precision    recall  f1-score   support\n",
            "\n",
            "           0       0.77      0.86      0.81      1000\n",
            "           1       0.98      0.97      0.97      1000\n",
            "           2       0.78      0.78      0.78      1000\n",
            "           3       0.85      0.88      0.86      1000\n",
            "           4       0.78      0.78      0.78      1000\n",
            "           5       0.96      0.93      0.95      1000\n",
            "           6       0.70      0.59      0.64      1000\n",
            "           7       0.92      0.93      0.93      1000\n",
            "           8       0.94      0.96      0.95      1000\n",
            "           9       0.93      0.96      0.95      1000\n",
            "\n",
            "    accuracy                           0.86     10000\n",
            "   macro avg       0.86      0.86      0.86     10000\n",
            "weighted avg       0.86      0.86      0.86     10000\n",
            "\n"
          ]
        }
      ]
    },
    {
      "cell_type": "code",
      "source": [],
      "metadata": {
        "id": "KTsU3tF9cjvz"
      },
      "execution_count": null,
      "outputs": []
    }
  ]
}