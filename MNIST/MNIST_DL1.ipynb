{
  "cells": [
    {
      "cell_type": "code",
      "execution_count": 2,
      "id": "c6189e3c",
      "metadata": {
        "id": "c6189e3c"
      },
      "outputs": [],
      "source": [
        "import torch\n",
        "from torch import nn\n",
        "import torch.nn.functional as F\n",
        "from torchvision import datasets, transforms\n",
        "import numpy as np\n",
        "import matplotlib.pyplot as plt\n",
        "from collections import OrderedDict"
      ]
    },
    {
      "cell_type": "markdown",
      "id": "209e16f2",
      "metadata": {
        "id": "209e16f2"
      },
      "source": [
        "Create a transform to normalize MNIST data"
      ]
    },
    {
      "cell_type": "code",
      "execution_count": 3,
      "id": "c5482824",
      "metadata": {
        "id": "c5482824"
      },
      "outputs": [],
      "source": [
        "transform = transforms.Compose([transforms.ToTensor(), transforms.Normalize((0.5), (0.5))])"
      ]
    },
    {
      "cell_type": "code",
      "execution_count": 4,
      "id": "c11f2538",
      "metadata": {
        "colab": {
          "base_uri": "https://localhost:8080/"
        },
        "id": "c11f2538",
        "outputId": "8c378b05-c48c-443f-e699-772045fbd7fe"
      },
      "outputs": [
        {
          "output_type": "stream",
          "name": "stdout",
          "text": [
            "Downloading http://yann.lecun.com/exdb/mnist/train-images-idx3-ubyte.gz\n",
            "Failed to download (trying next):\n",
            "HTTP Error 403: Forbidden\n",
            "\n",
            "Downloading https://ossci-datasets.s3.amazonaws.com/mnist/train-images-idx3-ubyte.gz\n",
            "Downloading https://ossci-datasets.s3.amazonaws.com/mnist/train-images-idx3-ubyte.gz to mnist_train_dataset/MNIST/raw/train-images-idx3-ubyte.gz\n"
          ]
        },
        {
          "output_type": "stream",
          "name": "stderr",
          "text": [
            "100%|██████████| 9912422/9912422 [00:01<00:00, 5172863.53it/s]\n"
          ]
        },
        {
          "output_type": "stream",
          "name": "stdout",
          "text": [
            "Extracting mnist_train_dataset/MNIST/raw/train-images-idx3-ubyte.gz to mnist_train_dataset/MNIST/raw\n",
            "\n",
            "Downloading http://yann.lecun.com/exdb/mnist/train-labels-idx1-ubyte.gz\n",
            "Failed to download (trying next):\n",
            "HTTP Error 403: Forbidden\n",
            "\n",
            "Downloading https://ossci-datasets.s3.amazonaws.com/mnist/train-labels-idx1-ubyte.gz\n",
            "Downloading https://ossci-datasets.s3.amazonaws.com/mnist/train-labels-idx1-ubyte.gz to mnist_train_dataset/MNIST/raw/train-labels-idx1-ubyte.gz\n"
          ]
        },
        {
          "output_type": "stream",
          "name": "stderr",
          "text": [
            "100%|██████████| 28881/28881 [00:00<00:00, 152216.28it/s]\n"
          ]
        },
        {
          "output_type": "stream",
          "name": "stdout",
          "text": [
            "Extracting mnist_train_dataset/MNIST/raw/train-labels-idx1-ubyte.gz to mnist_train_dataset/MNIST/raw\n",
            "\n",
            "Downloading http://yann.lecun.com/exdb/mnist/t10k-images-idx3-ubyte.gz\n",
            "Failed to download (trying next):\n",
            "HTTP Error 403: Forbidden\n",
            "\n",
            "Downloading https://ossci-datasets.s3.amazonaws.com/mnist/t10k-images-idx3-ubyte.gz\n",
            "Downloading https://ossci-datasets.s3.amazonaws.com/mnist/t10k-images-idx3-ubyte.gz to mnist_train_dataset/MNIST/raw/t10k-images-idx3-ubyte.gz\n"
          ]
        },
        {
          "output_type": "stream",
          "name": "stderr",
          "text": [
            "100%|██████████| 1648877/1648877 [00:01<00:00, 1430720.85it/s]\n"
          ]
        },
        {
          "output_type": "stream",
          "name": "stdout",
          "text": [
            "Extracting mnist_train_dataset/MNIST/raw/t10k-images-idx3-ubyte.gz to mnist_train_dataset/MNIST/raw\n",
            "\n",
            "Downloading http://yann.lecun.com/exdb/mnist/t10k-labels-idx1-ubyte.gz\n",
            "Failed to download (trying next):\n",
            "HTTP Error 403: Forbidden\n",
            "\n",
            "Downloading https://ossci-datasets.s3.amazonaws.com/mnist/t10k-labels-idx1-ubyte.gz\n",
            "Downloading https://ossci-datasets.s3.amazonaws.com/mnist/t10k-labels-idx1-ubyte.gz to mnist_train_dataset/MNIST/raw/t10k-labels-idx1-ubyte.gz\n"
          ]
        },
        {
          "output_type": "stream",
          "name": "stderr",
          "text": [
            "100%|██████████| 4542/4542 [00:00<00:00, 3516155.18it/s]"
          ]
        },
        {
          "output_type": "stream",
          "name": "stdout",
          "text": [
            "Extracting mnist_train_dataset/MNIST/raw/t10k-labels-idx1-ubyte.gz to mnist_train_dataset/MNIST/raw\n",
            "\n"
          ]
        },
        {
          "output_type": "stream",
          "name": "stderr",
          "text": [
            "\n"
          ]
        }
      ],
      "source": [
        "mnist_train_dataset = datasets.MNIST('mnist_train_dataset', download=True, transform=transform, train=True)"
      ]
    },
    {
      "cell_type": "markdown",
      "id": "1d5f676e",
      "metadata": {
        "id": "1d5f676e"
      },
      "source": [
        "create a data loader"
      ]
    },
    {
      "cell_type": "code",
      "execution_count": 5,
      "id": "5bc87b0d",
      "metadata": {
        "id": "5bc87b0d"
      },
      "outputs": [],
      "source": [
        "mnist_train_data_loader = torch.utils.data.DataLoader(mnist_train_dataset, batch_size=64, shuffle=True)"
      ]
    },
    {
      "cell_type": "markdown",
      "source": [
        "create data iterator"
      ],
      "metadata": {
        "id": "BGidffe9gsp9"
      },
      "id": "BGidffe9gsp9"
    },
    {
      "cell_type": "code",
      "execution_count": 6,
      "id": "fb31bdb0",
      "metadata": {
        "id": "fb31bdb0"
      },
      "outputs": [],
      "source": [
        "train_data_iterator = iter(mnist_train_data_loader)"
      ]
    },
    {
      "cell_type": "code",
      "execution_count": 7,
      "id": "2a3a8969",
      "metadata": {
        "colab": {
          "base_uri": "https://localhost:8080/",
          "height": 121
        },
        "id": "2a3a8969",
        "outputId": "446531d3-ae89-46c7-d90d-015528849fda",
        "collapsed": true
      },
      "outputs": [
        {
          "output_type": "execute_result",
          "data": {
            "text/plain": [
              "torch.utils.data.dataloader._SingleProcessDataLoaderIter"
            ],
            "text/html": [
              "<div style=\"max-width:800px; border: 1px solid var(--colab-border-color);\"><style>\n",
              "      pre.function-repr-contents {\n",
              "        overflow-x: auto;\n",
              "        padding: 8px 12px;\n",
              "        max-height: 500px;\n",
              "      }\n",
              "\n",
              "      pre.function-repr-contents.function-repr-contents-collapsed {\n",
              "        cursor: pointer;\n",
              "        max-height: 100px;\n",
              "      }\n",
              "    </style>\n",
              "    <pre style=\"white-space: initial; background:\n",
              "         var(--colab-secondary-surface-color); padding: 8px 12px;\n",
              "         border-bottom: 1px solid var(--colab-border-color);\"><b>torch.utils.data.dataloader._SingleProcessDataLoaderIter</b><br/>def __init__(loader)</pre><pre class=\"function-repr-contents function-repr-contents-collapsed\" style=\"\"><a class=\"filepath\" style=\"display:none\" href=\"#\">/usr/local/lib/python3.10/dist-packages/torch/utils/data/dataloader.py</a>&lt;no docstring&gt;</pre>\n",
              "      <script>\n",
              "      if (google.colab.kernel.accessAllowed && google.colab.files && google.colab.files.view) {\n",
              "        for (const element of document.querySelectorAll('.filepath')) {\n",
              "          element.style.display = 'block'\n",
              "          element.onclick = (event) => {\n",
              "            event.preventDefault();\n",
              "            event.stopPropagation();\n",
              "            google.colab.files.view(element.textContent, 658);\n",
              "          };\n",
              "        }\n",
              "      }\n",
              "      for (const element of document.querySelectorAll('.function-repr-contents')) {\n",
              "        element.onclick = (event) => {\n",
              "          event.preventDefault();\n",
              "          event.stopPropagation();\n",
              "          element.classList.toggle('function-repr-contents-collapsed');\n",
              "        };\n",
              "      }\n",
              "      </script>\n",
              "      </div>"
            ]
          },
          "metadata": {},
          "execution_count": 7
        }
      ],
      "source": [
        "type(train_data_iterator)"
      ]
    },
    {
      "cell_type": "code",
      "execution_count": 8,
      "id": "792c89e8",
      "metadata": {
        "id": "792c89e8"
      },
      "outputs": [],
      "source": [
        "train_images, train_labels = next(train_data_iterator)"
      ]
    },
    {
      "cell_type": "code",
      "execution_count": 9,
      "id": "b49a9467",
      "metadata": {
        "colab": {
          "base_uri": "https://localhost:8080/"
        },
        "id": "b49a9467",
        "outputId": "84e4c41e-673c-483d-821c-975d5e18f527"
      },
      "outputs": [
        {
          "output_type": "execute_result",
          "data": {
            "text/plain": [
              "torch.Size([64, 1, 28, 28])"
            ]
          },
          "metadata": {},
          "execution_count": 9
        }
      ],
      "source": [
        "train_images.shape"
      ]
    },
    {
      "cell_type": "code",
      "execution_count": 10,
      "id": "c5fea066",
      "metadata": {
        "colab": {
          "base_uri": "https://localhost:8080/"
        },
        "id": "c5fea066",
        "outputId": "0dad089b-b8cb-462e-9949-5cebc9a52dbd"
      },
      "outputs": [
        {
          "output_type": "execute_result",
          "data": {
            "text/plain": [
              "torch.Size([64])"
            ]
          },
          "metadata": {},
          "execution_count": 10
        }
      ],
      "source": [
        "train_labels.shape"
      ]
    },
    {
      "cell_type": "code",
      "execution_count": 11,
      "id": "b2351cd9",
      "metadata": {
        "colab": {
          "base_uri": "https://localhost:8080/"
        },
        "id": "b2351cd9",
        "outputId": "0c5e6520-90bf-4540-e93a-8b2feada6468"
      },
      "outputs": [
        {
          "output_type": "execute_result",
          "data": {
            "text/plain": [
              "device(type='cpu')"
            ]
          },
          "metadata": {},
          "execution_count": 11
        }
      ],
      "source": [
        "train_images[0].device"
      ]
    },
    {
      "cell_type": "code",
      "execution_count": 12,
      "id": "dec9d7da",
      "metadata": {
        "colab": {
          "base_uri": "https://localhost:8080/"
        },
        "id": "dec9d7da",
        "outputId": "8975a80b-a954-451d-f2f8-faab3c38e18e"
      },
      "outputs": [
        {
          "output_type": "stream",
          "name": "stdout",
          "text": [
            "tensor(False)\n",
            "tensor(False)\n"
          ]
        }
      ],
      "source": [
        "print(torch.isnan(train_images[0]).any())\n",
        "print(torch.isinf(train_images[0]).any())"
      ]
    },
    {
      "cell_type": "code",
      "source": [
        "train_labels"
      ],
      "metadata": {
        "colab": {
          "base_uri": "https://localhost:8080/"
        },
        "id": "QjVofyIH5YdK",
        "outputId": "0f2e77f9-b982-4bff-896c-6a9ba2dafa9f"
      },
      "id": "QjVofyIH5YdK",
      "execution_count": 13,
      "outputs": [
        {
          "output_type": "execute_result",
          "data": {
            "text/plain": [
              "tensor([7, 4, 2, 7, 6, 7, 3, 6, 2, 7, 1, 2, 0, 6, 1, 3, 3, 6, 8, 3, 6, 5, 2, 1,\n",
              "        6, 3, 5, 0, 1, 9, 0, 7, 9, 6, 3, 4, 4, 3, 8, 6, 4, 5, 6, 6, 4, 2, 6, 6,\n",
              "        6, 4, 2, 0, 5, 2, 9, 3, 0, 5, 0, 8, 0, 3, 2, 3])"
            ]
          },
          "metadata": {},
          "execution_count": 13
        }
      ]
    },
    {
      "cell_type": "markdown",
      "source": [
        "view an image"
      ],
      "metadata": {
        "id": "PHDBCWdskSKF"
      },
      "id": "PHDBCWdskSKF"
    },
    {
      "cell_type": "code",
      "execution_count": 14,
      "id": "17194543",
      "metadata": {
        "colab": {
          "base_uri": "https://localhost:8080/",
          "height": 447
        },
        "id": "17194543",
        "outputId": "d1881aba-38c3-4a4c-b71d-73d0af875bfd"
      },
      "outputs": [
        {
          "output_type": "execute_result",
          "data": {
            "text/plain": [
              "<matplotlib.image.AxesImage at 0x78ac799fa200>"
            ]
          },
          "metadata": {},
          "execution_count": 14
        },
        {
          "output_type": "display_data",
          "data": {
            "text/plain": [
              "<Figure size 640x480 with 1 Axes>"
            ],
            "image/png": "[encoded data removed]"
          },
          "metadata": {}
        }
      ],
      "source": [
        "plt.imshow(train_images[0].numpy().squeeze(), cmap='gray')"
      ]
    },
    {
      "cell_type": "markdown",
      "source": [
        "Build a simple neural network"
      ],
      "metadata": {
        "id": "0bCKUb_smPi2"
      },
      "id": "0bCKUb_smPi2"
    },
    {
      "cell_type": "code",
      "source": [
        "class NeuralNetwork(nn.Module):\n",
        "    def __init__(self):\n",
        "        super(NeuralNetwork, self).__init__()\n",
        "        # defining Neural Network layers\n",
        "\n",
        "        # inputs to hidden layer\n",
        "        self.hidden_layer = nn.Linear(784, 256)\n",
        "\n",
        "        # output layer, 10 units for each label\n",
        "        self.output_layer = nn.Linear(256, 10)\n",
        "\n",
        "    def forward(self, x):\n",
        "        # pass the input tensor through each of our operations\n",
        "\n",
        "        # hidden layer with relu activation\n",
        "        x = F.relu(self.hidden_layer(x))\n",
        "\n",
        "        # output layer with softmax activation\n",
        "        x = F.softmax(self.output_layer(x), dim=1)\n",
        "\n",
        "        return x"
      ],
      "metadata": {
        "id": "B6ugvPuz4yMo"
      },
      "id": "B6ugvPuz4yMo",
      "execution_count": 15,
      "outputs": []
    },
    {
      "cell_type": "code",
      "source": [
        "model = NeuralNetwork()"
      ],
      "metadata": {
        "id": "XGJaGbAcnkAP"
      },
      "id": "XGJaGbAcnkAP",
      "execution_count": 16,
      "outputs": []
    },
    {
      "cell_type": "code",
      "source": [
        "model"
      ],
      "metadata": {
        "colab": {
          "base_uri": "https://localhost:8080/"
        },
        "id": "QHDx1XTQocKC",
        "outputId": "24dc6783-e4a9-4862-903b-b5df526ae74f"
      },
      "id": "QHDx1XTQocKC",
      "execution_count": 17,
      "outputs": [
        {
          "output_type": "execute_result",
          "data": {
            "text/plain": [
              "NeuralNetwork(\n",
              "  (hidden_layer): Linear(in_features=784, out_features=256, bias=True)\n",
              "  (output_layer): Linear(in_features=256, out_features=10, bias=True)\n",
              ")"
            ]
          },
          "metadata": {},
          "execution_count": 17
        }
      ]
    },
    {
      "cell_type": "code",
      "source": [
        "model.hidden_layer.weight.data.fill_(0)"
      ],
      "metadata": {
        "colab": {
          "base_uri": "https://localhost:8080/"
        },
        "id": "ef1laP66pN3U",
        "outputId": "cf35b15c-e0cf-4593-c899-00adfae7c390"
      },
      "id": "ef1laP66pN3U",
      "execution_count": 18,
      "outputs": [
        {
          "output_type": "execute_result",
          "data": {
            "text/plain": [
              "tensor([[0., 0., 0.,  ..., 0., 0., 0.],\n",
              "        [0., 0., 0.,  ..., 0., 0., 0.],\n",
              "        [0., 0., 0.,  ..., 0., 0., 0.],\n",
              "        ...,\n",
              "        [0., 0., 0.,  ..., 0., 0., 0.],\n",
              "        [0., 0., 0.,  ..., 0., 0., 0.],\n",
              "        [0., 0., 0.,  ..., 0., 0., 0.]])"
            ]
          },
          "metadata": {},
          "execution_count": 18
        }
      ]
    },
    {
      "cell_type": "code",
      "source": [],
      "metadata": {
        "id": "uyDac-0Mq1zJ"
      },
      "id": "uyDac-0Mq1zJ",
      "execution_count": 18,
      "outputs": []
    },
    {
      "cell_type": "markdown",
      "source": [
        "Define a loss function"
      ],
      "metadata": {
        "id": "Nc0HgQsarGGg"
      },
      "id": "Nc0HgQsarGGg"
    },
    {
      "cell_type": "code",
      "source": [
        "criterion = nn.CrossEntropyLoss()"
      ],
      "metadata": {
        "id": "TMWRZ854rIg9"
      },
      "id": "TMWRZ854rIg9",
      "execution_count": 19,
      "outputs": []
    },
    {
      "cell_type": "code",
      "source": [
        "train_images.shape"
      ],
      "metadata": {
        "colab": {
          "base_uri": "https://localhost:8080/"
        },
        "id": "BRN4ldC3rL2Y",
        "outputId": "ed0acf04-04d3-43cf-d216-2aa855b00c7c"
      },
      "id": "BRN4ldC3rL2Y",
      "execution_count": 20,
      "outputs": [
        {
          "output_type": "execute_result",
          "data": {
            "text/plain": [
              "torch.Size([64, 1, 28, 28])"
            ]
          },
          "metadata": {},
          "execution_count": 20
        }
      ]
    },
    {
      "cell_type": "code",
      "source": [
        "train_images_batch = train_images.view(train_images.shape[0], -1)"
      ],
      "metadata": {
        "id": "V0aPwDmVrmXQ"
      },
      "id": "V0aPwDmVrmXQ",
      "execution_count": 21,
      "outputs": []
    },
    {
      "cell_type": "code",
      "source": [
        "train_images_batch.shape"
      ],
      "metadata": {
        "colab": {
          "base_uri": "https://localhost:8080/"
        },
        "id": "aO0NPftOrw25",
        "outputId": "438b3539-7ab9-4f33-e54a-bac6e46b764d"
      },
      "id": "aO0NPftOrw25",
      "execution_count": 22,
      "outputs": [
        {
          "output_type": "execute_result",
          "data": {
            "text/plain": [
              "torch.Size([64, 784])"
            ]
          },
          "metadata": {},
          "execution_count": 22
        }
      ]
    },
    {
      "cell_type": "code",
      "source": [
        "output_predictions = model(train_images_batch)"
      ],
      "metadata": {
        "id": "SG9n5eRUry8w"
      },
      "id": "SG9n5eRUry8w",
      "execution_count": 23,
      "outputs": []
    },
    {
      "cell_type": "code",
      "source": [
        "loss = criterion(output_predictions, train_labels)"
      ],
      "metadata": {
        "id": "OzM3iu4jr5X0"
      },
      "id": "OzM3iu4jr5X0",
      "execution_count": 24,
      "outputs": []
    },
    {
      "cell_type": "code",
      "source": [
        "loss"
      ],
      "metadata": {
        "colab": {
          "base_uri": "https://localhost:8080/"
        },
        "id": "CDchu-QYr7Zg",
        "outputId": "d6d000d2-00d6-4841-fd11-9f3289085dff"
      },
      "id": "CDchu-QYr7Zg",
      "execution_count": 25,
      "outputs": [
        {
          "output_type": "execute_result",
          "data": {
            "text/plain": [
              "tensor(2.3033, grad_fn=<NllLossBackward0>)"
            ]
          },
          "metadata": {},
          "execution_count": 25
        }
      ]
    },
    {
      "cell_type": "markdown",
      "source": [
        "Train the model"
      ],
      "metadata": {
        "id": "Cx4LFFTSr_9y"
      },
      "id": "Cx4LFFTSr_9y"
    },
    {
      "cell_type": "markdown",
      "source": [
        "Define an optimizer"
      ],
      "metadata": {
        "id": "k0JxEBwari5i"
      },
      "id": "k0JxEBwari5i"
    },
    {
      "cell_type": "code",
      "source": [
        "optimizer = torch.optim.SGD(model.parameters(), lr=0.01)"
      ],
      "metadata": {
        "id": "ONMJukxXsBLe"
      },
      "id": "ONMJukxXsBLe",
      "execution_count": 26,
      "outputs": []
    },
    {
      "cell_type": "code",
      "source": [],
      "metadata": {
        "id": "F564Uararu9H"
      },
      "id": "F564Uararu9H",
      "execution_count": 26,
      "outputs": []
    },
    {
      "cell_type": "markdown",
      "source": [
        "Train using training images"
      ],
      "metadata": {
        "id": "E0QxkBMnsPV1"
      },
      "id": "E0QxkBMnsPV1"
    },
    {
      "cell_type": "code",
      "source": [
        "epochs = 8\n",
        "for e in range(epochs):\n",
        "    training_loss = 0\n",
        "    for images, labels in mnist_train_data_loader:\n",
        "        # Flatten the images\n",
        "        image = images.view(images.shape[0], -1)\n",
        "\n",
        "        # make the gradient values to 0\n",
        "        optimizer.zero_grad()\n",
        "\n",
        "        # get output predictions from images\n",
        "        output_predictions = model(image)\n",
        "\n",
        "        # calculate loss\n",
        "        loss = criterion(output_predictions, labels)\n",
        "\n",
        "        # do a backward pass to find the gradient\n",
        "        loss.backward()\n",
        "\n",
        "        # update the weights of the parameters\n",
        "        optimizer.step()\n",
        "\n",
        "        training_loss += loss.item()\n",
        "\n",
        "    else:\n",
        "        print(f\"Training loss for epoch {e}: {training_loss/len(mnist_train_data_loader)}\")"
      ],
      "metadata": {
        "colab": {
          "base_uri": "https://localhost:8080/"
        },
        "id": "7nKXUxPNsRRI",
        "outputId": "76097a84-bf8b-4c04-c05b-b866bd0903fd"
      },
      "id": "7nKXUxPNsRRI",
      "execution_count": 30,
      "outputs": [
        {
          "output_type": "stream",
          "name": "stdout",
          "text": [
            "Training loss for epoch 0: 2.2048625268661644\n",
            "Training loss for epoch 1: 1.8926002525571566\n",
            "Training loss for epoch 2: 1.7450766882408402\n",
            "Training loss for epoch 3: 1.6882055680126524\n",
            "Training loss for epoch 4: 1.6674112667407055\n",
            "Training loss for epoch 5: 1.6562004408348343\n",
            "Training loss for epoch 6: 1.648905526473324\n",
            "Training loss for epoch 7: 1.6436491705207175\n"
          ]
        }
      ]
    },
    {
      "cell_type": "code",
      "source": [],
      "metadata": {
        "id": "5DoMOvAiudhQ"
      },
      "id": "5DoMOvAiudhQ",
      "execution_count": null,
      "outputs": []
    },
    {
      "cell_type": "markdown",
      "source": [
        "Inference on a digit"
      ],
      "metadata": {
        "id": "kmK2CUd2xrDh"
      },
      "id": "kmK2CUd2xrDh"
    },
    {
      "cell_type": "code",
      "source": [
        "images, labels = next(iter(mnist_train_data_loader))"
      ],
      "metadata": {
        "id": "A_rMPJJ1xsdP"
      },
      "id": "A_rMPJJ1xsdP",
      "execution_count": 32,
      "outputs": []
    },
    {
      "cell_type": "code",
      "source": [
        "infer_img = images[0].view(1,784)"
      ],
      "metadata": {
        "id": "txKI5R5mx5O5"
      },
      "id": "txKI5R5mx5O5",
      "execution_count": 35,
      "outputs": []
    },
    {
      "cell_type": "code",
      "source": [
        "with torch.no_grad():\n",
        "    output_prediction = model(infer_img)"
      ],
      "metadata": {
        "id": "HSqkuy-YyKc0"
      },
      "id": "HSqkuy-YyKc0",
      "execution_count": 36,
      "outputs": []
    },
    {
      "cell_type": "code",
      "source": [
        "output_prediction.shape"
      ],
      "metadata": {
        "colab": {
          "base_uri": "https://localhost:8080/"
        },
        "id": "kpJV4O8ByR7c",
        "outputId": "be16a8a0-347e-4355-da64-c0981b97bd39"
      },
      "id": "kpJV4O8ByR7c",
      "execution_count": 37,
      "outputs": [
        {
          "output_type": "execute_result",
          "data": {
            "text/plain": [
              "torch.Size([1, 10])"
            ]
          },
          "metadata": {},
          "execution_count": 37
        }
      ]
    },
    {
      "cell_type": "code",
      "source": [
        "probabilities = output_prediction.data.numpy().squeeze()\n",
        "probabilities.round(2)"
      ],
      "metadata": {
        "colab": {
          "base_uri": "https://localhost:8080/"
        },
        "id": "vrgSXutyyZj-",
        "outputId": "89e8c726-ce9c-4b3c-c20b-3c0095c11090"
      },
      "id": "vrgSXutyyZj-",
      "execution_count": 41,
      "outputs": [
        {
          "output_type": "execute_result",
          "data": {
            "text/plain": [
              "array([0., 0., 0., 0., 1., 0., 0., 0., 0., 0.], dtype=float32)"
            ]
          },
          "metadata": {},
          "execution_count": 41
        }
      ]
    },
    {
      "cell_type": "code",
      "source": [
        "plt.imshow(infer_img.resize(1, 28, 28).numpy().squeeze(), cmap='gray')"
      ],
      "metadata": {
        "colab": {
          "base_uri": "https://localhost:8080/",
          "height": 482
        },
        "id": "klRNPAvdykCv",
        "outputId": "880b91c3-2c24-45be-a2f6-fa0fac593846"
      },
      "id": "klRNPAvdykCv",
      "execution_count": 40,
      "outputs": [
        {
          "output_type": "stream",
          "name": "stderr",
          "text": [
            "/usr/local/lib/python3.10/dist-packages/torch/_tensor.py:893: UserWarning: non-inplace resize is deprecated\n",
            "  warnings.warn(\"non-inplace resize is deprecated\")\n"
          ]
        },
        {
          "output_type": "execute_result",
          "data": {
            "text/plain": [
              "<matplotlib.image.AxesImage at 0x78ac6a98f5b0>"
            ]
          },
          "metadata": {},
          "execution_count": 40
        },
        {
          "output_type": "display_data",
          "data": {
            "text/plain": [
              "<Figure size 640x480 with 1 Axes>"
            ],
            "image/png": "[encoded data removed]"
          },
          "metadata": {}
        }
      ]
    },
    {
      "cell_type": "code",
      "source": [],
      "metadata": {
        "id": "34OCBoywy0YC"
      },
      "id": "34OCBoywy0YC",
      "execution_count": null,
      "outputs": []
    }
  ],
  "metadata": {
    "kernelspec": {
      "display_name": "Python 3 (ipykernel)",
      "language": "python",
      "name": "python3"
    },
    "language_info": {
      "codemirror_mode": {
        "name": "ipython",
        "version": 3
      },
      "file_extension": ".py",
      "mimetype": "text/x-python",
      "name": "python",
      "nbconvert_exporter": "python",
      "pygments_lexer": "ipython3",
      "version": "3.11.5"
    },
    "colab": {
      "provenance": []
    }
  },
  "nbformat": 4,
  "nbformat_minor": 5
}